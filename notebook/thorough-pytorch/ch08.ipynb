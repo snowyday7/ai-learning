{
 "cells": [
  {
   "cell_type": "markdown",
   "metadata": {},
   "source": [
    "# 八 PyTorch生态简介"
   ]
  },
  {
   "cell_type": "markdown",
   "metadata": {},
   "source": [
    "## 1 图像 - torchvision"
   ]
  },
  {
   "cell_type": "markdown",
   "metadata": {},
   "source": [
    "+ torchvision.datasets *\n",
    "+ torchvision.models *\n",
    "+ torchvision.tramsforms *\n",
    "+ torchvision.io\n",
    "+ torchvision.ops\n",
    "+ torchvision.utils"
   ]
  },
  {
   "cell_type": "markdown",
   "metadata": {},
   "source": [
    "### 1.1 torchvision.datasets"
   ]
  },
  {
   "cell_type": "markdown",
   "metadata": {},
   "source": [
    "`torchvision.datasets`主要包含了一些我们在计算机视觉中常见的数据集，在==0.10.0版本==的 `torchvision`下，有以下的数据集：\n",
    "\n",
    "| Caltech             | CelebA                 | CIFAR                   | Cityscapes       |\n",
    "| ------------------- | ---------------------- | ----------------------- | ---------------- |\n",
    "| **EMNIST**    | **FakeData**     | **Fashion-MNIST** | **Flickr** |\n",
    "| **ImageNet**  | **Kinetics-400** | **KITTI**         | **KMNIST** |\n",
    "| **PhotoTour** | **Places365**    | **QMNIST**        | **SBD**    |\n",
    "| **SEMEION**   | **STL10**        | **SVHN**          | **UCF101** |\n",
    "| **VOC**       | **WIDERFace**    |                         |                  |"
   ]
  },
  {
   "cell_type": "markdown",
   "metadata": {},
   "source": [
    "### 1.2 torchvision.transforms"
   ]
  },
  {
   "cell_type": "markdown",
   "metadata": {},
   "source": [
    "数据增强预处理，对图片进行归一化、缩小或放大、水平或垂直翻转等[操作](https://pytorch.org/vision/stable/transforms.html)"
   ]
  },
  {
   "cell_type": "markdown",
   "metadata": {},
   "source": [
    "```py\n",
    "from torchvision import transforms\n",
    "data_transform = transforms.Compose([\n",
    "    transforms.ToPILImage(),   # 这一步取决于后续的数据读取方式，如果使用内置数据集则不需要\n",
    "    transforms.Resize(image_size),\n",
    "    transforms.ToTensor()\n",
    "])\n",
    "\n",
    "```"
   ]
  },
  {
   "cell_type": "markdown",
   "metadata": {},
   "source": [
    "### 1.3 torchvision.models"
   ]
  },
  {
   "cell_type": "markdown",
   "metadata": {},
   "source": [
    "提供一些[预训练模型](https://github.com/pytorch/vision/tree/master/torchvision/models)，包括[图像分类](https://pytorch.org/vision/stable/models.html#)、[语义分割](https://pytorch.org/vision/stable/models.html#semantic-segmentation)、[物体检测、实例分割、人体关键点检测](https://pytorch.org/vision/stable/models.html#object-detection-instance-segmentation-and-person-keypoint-detection)、[视频分类](https://pytorch.org/vision/stable/models.html#video-classification)等模型"
   ]
  },
  {
   "cell_type": "markdown",
   "metadata": {},
   "source": [
    "+ **Classification**\n",
    "\n",
    "在图像分类里面，PyTorch官方提供了以下[模型](https://pytorch.org/vision/stable/models.html#)，并正在不断增多。\n",
    "\n",
    "| AlexNet               | VGG                    | ResNet              | SqueezeNet              |\n",
    "| --------------------- | ---------------------- | ------------------- | ----------------------- |\n",
    "| **DenseNet**    | **Inception v3** | **GoogLeNet** | **ShuffleNet v2** |\n",
    "| **MobileNetV2** | **MobileNetV3**  | **ResNext**   | **Wide ResNet**   |\n",
    "| **MNASNet**     | **EfficientNet** | **RegNet**    | **持续更新**      |"
   ]
  },
  {
   "cell_type": "markdown",
   "metadata": {},
   "source": [
    "- **Semantic Segmentation**\n",
    "\n",
    "语义分割的预训练模型是在COCO train2017的子集上进行训练的，提供了20个类别，包括background, aeroplane, bicycle, bird, boat, bottle, bus, car, cat, chair, cow, diningtable, dog, horse, motorbike, person, pottedplant, sheep, sofa,train, tvmonitor。\n",
    "\n",
    "| **FCN ResNet50**              | **FCN ResNet101**               | **DeepLabV3 ResNet50** | **DeepLabV3 ResNet101** |\n",
    "| ----------------------------------- | ------------------------------------- | ---------------------------- | ----------------------------- |\n",
    "| **LR-ASPP MobileNetV3-Large** | **DeepLabV3 MobileNetV3-Large** | **未**                 |"
   ]
  },
  {
   "cell_type": "markdown",
   "metadata": {},
   "source": [
    "- **Object Detection，instance Segmentation and Keypoint Detection**\n",
    "\n",
    "物体检测，实例分割和人体关键点检测的模型我们同样是在COCO train2017进行训练的，在下方我们提供了实例分割的类别和人体关键点检测类别：\n",
    "\n",
    "```python\n",
    "COCO_INSTANCE_CATEGORY_NAMES = [\n",
    "    '__background__', 'person', 'bicycle', 'car', 'motorcycle', 'airplane', 'bus','train', 'truck', 'boat', 'traffic light', 'fire hydrant', 'N/A', 'stop sign', 'parking meter', 'bench', 'bird', 'cat', 'dog', 'horse', 'sheep', 'cow', 'elephant', 'bear', 'zebra', 'giraffe', 'N/A', 'backpack', 'umbrella', 'N/A', 'N/A','handbag', 'tie', 'suitcase', 'frisbee', 'skis', 'snowboard', 'sports ball','kite', 'baseball bat', 'baseball glove', 'skateboard', 'surfboard', 'tennis racket','bottle', 'N/A', 'wine glass', 'cup', 'fork', 'knife', 'spoon', 'bowl','banana', 'apple', 'sandwich', 'orange', 'broccoli', 'carrot', 'hot dog', 'pizza','donut', 'cake', 'chair', 'couch', 'potted plant', 'bed', 'N/A', 'dining table','N/A', 'N/A', 'toilet', 'N/A', 'tv', 'laptop', 'mouse', 'remote', 'keyboard', 'cell phone','microwave', 'oven', 'toaster', 'sink', 'refrigerator', 'N/A', 'book','clock', 'vase', 'scissors', 'teddy bear', 'hair drier', 'toothbrush']\n",
    "COCO_PERSON_KEYPOINT_NAMES =['nose','left_eye','right_eye','left_ear','right_ear','left_shoulder','right_shoulder','left_elbow','right_elbow','left_wrist','right_wrist','left_hip','right_hip','left_knee','right_knee','left_ankle','right_ankle']\n",
    "```"
   ]
  },
  {
   "cell_type": "markdown",
   "metadata": {},
   "source": [
    "| **Faster R-CNN** | **Mask R-CNN** | **RetinaNet** | **SSDlite** |\n",
    "| ---------------------- | -------------------- | ------------------- | ----------------- |\n",
    "| **SSD**          | **未完待续**   |                     |                   |"
   ]
  },
  {
   "cell_type": "markdown",
   "metadata": {},
   "source": [
    "- **Video classification**\n",
    "\n",
    "视频分类模型是在 Kinetics-400上进行预训练的\n",
    "\n",
    "| **ResNet 3D 18** | **ResNet MC 18** | **ResNet (2+1) D** |\n",
    "| ---------------------- | ---------------------- | ------------------------ |\n",
    "| **未完待续**     |                        |                          |"
   ]
  },
  {
   "cell_type": "markdown",
   "metadata": {},
   "source": [
    "### 1.4 torchvision.io"
   ]
  },
  {
   "cell_type": "markdown",
   "metadata": {},
   "source": [
    "提供了视频、图片和文件的 IO 操作的功能，它们包括读取、写入、编解码处理操作"
   ]
  },
  {
   "cell_type": "markdown",
   "metadata": {},
   "source": [
    "### 1.5 torchvision.ops"
   ]
  },
  {
   "cell_type": "markdown",
   "metadata": {},
   "source": [
    "提供了许多计算机视觉的[特定操作](https://pytorch.org/vision/stable/ops.html)，包括但不仅限于NMS，RoIAlign（MASK R-CNN中应用的一种方法），RoIPool（Fast R-CNN中用到的一种方法）"
   ]
  },
  {
   "cell_type": "markdown",
   "metadata": {},
   "source": [
    "### 1.6 torchvision.utils"
   ]
  },
  {
   "cell_type": "markdown",
   "metadata": {},
   "source": [
    "提供了一些[可视化的方法](https://pytorch.org/vision/stable/utils.html)，可以帮助我们将若干张图片拼接在一起、可视化检测和分割的效果。"
   ]
  },
  {
   "cell_type": "markdown",
   "metadata": {},
   "source": [
    "## 2 视频 - PyTorchVideo"
   ]
  },
  {
   "cell_type": "markdown",
   "metadata": {},
   "source": [
    "- 简介：[PyTorchVideo](https://pytorchvideo.readthedocs.io/en/latest/index.html) 是一个专注于视频理解工作的深度学习库，提供了加速视频理解研究所需的可重用、模块化和高效的组件，支持不同的深度学习视频组件，如视频模型、视频数据集和视频特定转换。\n",
    "- 特点：基于PyTorch，提供Model Zoo，支持数据预处理和常见数据，采用模块化设计，支持多模态，优化移动端部署\n",
    "- 安装：\n",
    "  ```\n",
    "  pip install pytorchvideo\n",
    "  ```\n",
    "- 使用方式：[TochHub](https://pytorchvideo.org/docs/tutorial_torchhub_inference)、[PySlowFast](https://github.com/facebookresearch/SlowFast/)、[PyTorch Lightning](https://github.com/PyTorchLightning/pytorch-lightning)"
   ]
  },
  {
   "cell_type": "markdown",
   "metadata": {},
   "source": [
    "## 3 文本 - torchtext"
   ]
  },
  {
   "cell_type": "markdown",
   "metadata": {},
   "source": [
    "- 简介：torchtext是PyTorch的自然语言处理（NLP）的工具包，可对文本进行预处理，例如截断补长、构建词表等操作\n",
    "  \n",
    "- 主要组成：\n",
    "  - 数据处理工具 torchtext.data.functional、torchtext.data.utils\n",
    "  - 数据集 torchtext.data.datasets\n",
    "  - 词表工具 torchtext.vocab\n",
    "  - 评测指标 torchtext.metrics\n",
    "  \n",
    "- 安装：\n",
    "  ```\n",
    "  pip install torchtext\n",
    "  ```\n",
    "\n",
    "- 构建数据集：\n",
    "  - Field：使用`Field`类定义数据类型以及转换为张量，再进一步构建dataset\n",
    "  - 词汇表（vocab）：使用Field自带的`build_vocab`函数完成词汇表构建\n",
    "  - 数据迭代器：使用`BucketIterator`、`Iterator`构建数据迭代器\n",
    "  - 使用自带数据集：[官方文档](https://pytorch.org/text/stable/datasets.html)\n",
    "  \n",
    "- 评测指标：调用torchtext.data.metrics.bleu_score\n",
    "\n",
    "- 其它：NLP中[HuggingFace](https://huggingface.co/)的`Transformer`已经成为绝对主流"
   ]
  },
  {
   "cell_type": "markdown",
   "metadata": {},
   "source": [
    "## 4 音频 - torchaudio\n",
    "- 简介：torchaudio是PyTorch的音频处理工具包，提供了音频数据处理、音频特征提取、音频数据转换等功能\n",
    "\n",
    "- 安装：\n",
    "  ```\n",
    "  pip install torchaudio\n",
    "  ```\n",
    "\n",
    "- 主要组成：\n",
    "  - torchaudio.io：有关音频的I/O\n",
    "  - torchaudio.backend：提供了音频处理的后端，包括：sox，soundfile等\n",
    "  - torchaudio.functional：包含了常用的语音数据处理方法，如：spectrogram，create_fb_matrix等\n",
    "  - torchaudio.transforms：包含了常用的语音数据预处理方法，如：MFCC，MelScale，AmplitudeToDB等\n",
    "  - torchaudio.datasets：包含了常用的语音数据集，如：VCTK，LibriSpeech，yesno等\n",
    "  - torchaudio.models：包含了常用的语音模型，如：Wav2Letter，DeepSpeech等\n",
    "  - torchaudio.models.decoder：包含了常用的语音解码器，如：GreedyDecoder，BeamSearchDecoder等\n",
    "  - torchaudio.pipelines：包含了常用的语音处理流水线，如：SpeechRecognitionPipeline，SpeakerRecognitionPipeline等\n",
    "  - torchaudio.sox_effects：包含了常用的语音处理方法，如：apply_effects_tensor，apply_effects_file等\n",
    "  - torchaudio.compliance.kaldi：包含了与Kaldi工具兼容的方法，如：load_kaldi_fst，load_kaldi_ark等\n",
    "  - torchaudio.kalid_io：包含了与Kaldi工具兼容的方法，如：read_vec_flt_scp，read_vec_int_scp等\n",
    "  - torchaudio.utils：包含了常用的语音工具方法，如：get_audio_backend，set_audio_backend等"
   ]
  },
  {
   "cell_type": "markdown",
   "metadata": {},
   "source": [
    "- datasets的构建:对于一些公共数据集，我们可以主要通过`torchaudio.datasets`来实现。对于私有数据集，我们也可以通过继承torch.utils.data.Dataset来构建自己的数据集。数据集的读取和处理，我们可以通过`torch.utils.data.DataLoader`来实现"
   ]
  },
  {
   "cell_type": "markdown",
   "metadata": {},
   "source": [
    "```py\n",
    "import torchaudio\n",
    "import torch\n",
    "\n",
    "# 公共数据集的构建\n",
    "yesno_data = torchaudio.datasets.YESNO('.', download=True)\n",
    "data_loader = torch.utils.data.DataLoader(\n",
    "    yesno_data,\n",
    "    batch_size=1,\n",
    "    shuffle=True,\n",
    "    num_workers=4)\n",
    "\n",
    "```"
   ]
  },
  {
   "cell_type": "code",
   "execution_count": 2,
   "metadata": {},
   "outputs": [
    {
     "data": {
      "text/plain": [
       "['CMUARCTIC',\n",
       " 'CMUDict',\n",
       " 'COMMONVOICE',\n",
       " 'DR_VCTK',\n",
       " 'FluentSpeechCommands',\n",
       " 'GTZAN',\n",
       " 'IEMOCAP',\n",
       " 'LIBRISPEECH',\n",
       " 'LIBRITTS',\n",
       " 'LJSPEECH',\n",
       " 'LibriLightLimited',\n",
       " 'LibriMix',\n",
       " 'MUSDB_HQ',\n",
       " 'QUESST14',\n",
       " 'SPEECHCOMMANDS',\n",
       " 'Snips',\n",
       " 'TEDLIUM',\n",
       " 'VCTK_092',\n",
       " 'VoxCeleb1Identification',\n",
       " 'VoxCeleb1Verification',\n",
       " 'YESNO',\n",
       " '__all__',\n",
       " '__builtins__',\n",
       " '__cached__',\n",
       " '__doc__',\n",
       " '__file__',\n",
       " '__loader__',\n",
       " '__name__',\n",
       " '__package__',\n",
       " '__path__',\n",
       " '__spec__',\n",
       " 'cmuarctic',\n",
       " 'cmudict',\n",
       " 'commonvoice',\n",
       " 'dr_vctk',\n",
       " 'fluentcommands',\n",
       " 'gtzan',\n",
       " 'iemocap',\n",
       " 'librilight_limited',\n",
       " 'librimix',\n",
       " 'librispeech',\n",
       " 'libritts',\n",
       " 'ljspeech',\n",
       " 'musdb_hq',\n",
       " 'quesst14',\n",
       " 'snips',\n",
       " 'speechcommands',\n",
       " 'tedlium',\n",
       " 'utils',\n",
       " 'vctk',\n",
       " 'voxceleb1',\n",
       " 'yesno']"
      ]
     },
     "execution_count": 2,
     "metadata": {},
     "output_type": "execute_result"
    }
   ],
   "source": [
    "# 查看语音数据集\n",
    "import torchaudio\n",
    "dir(torchaudio.datasets)"
   ]
  },
  {
   "cell_type": "markdown",
   "metadata": {},
   "source": [
    "- model和pipeline的构建：`torchaudio.models`包含了常见语音任务的模型的定义，`torchaudio.pipelines`则是将预训练模型和其对应的任务组合在一起，构成了一个完整的语音处理流水线。[Pipeline Tutorials](https://pytorch.org/audio/stable/tutorials/speech_recognition_pipeline_tutorial.html)和[torchaudio.pipelines docs](https://pytorch.org/audio/stable/pipelines.html)"
   ]
  },
  {
   "cell_type": "markdown",
   "metadata": {},
   "source": [
    "- transforms和functional的使用：[`torchaudio.transforms`](https://pytorch.org/audio/main/transforms.html)模块包含常见的音频处理和特征提取。[`torchaudio.functional`](https://pytorch.org/audio/main/functional.html)则包括了一些常见的音频操作的函数。"
   ]
  },
  {
   "cell_type": "markdown",
   "metadata": {},
   "source": [
    "- compliance和kaldi_io的使用:\n",
    "  - Kaldi是一个用于语音识别研究的工具箱，torchaudio中提供了一些与Kaldi工具兼容的方法\n",
    "  - `torchaduio.compliance.kaldi`用于语音特征提取\n",
    "  - [`torchaudio.kaldi_io`](https://pytorch.org/audio/stable/kaldi_io.html)用于读取和写入Kaldi的数据集格式"
   ]
  }
 ],
 "metadata": {
  "kernelspec": {
   "display_name": "uni",
   "language": "python",
   "name": "python3"
  },
  "language_info": {
   "codemirror_mode": {
    "name": "ipython",
    "version": 3
   },
   "file_extension": ".py",
   "mimetype": "text/x-python",
   "name": "python",
   "nbconvert_exporter": "python",
   "pygments_lexer": "ipython3",
   "version": "3.11.5"
  }
 },
 "nbformat": 4,
 "nbformat_minor": 2
}
