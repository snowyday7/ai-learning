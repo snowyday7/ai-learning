{
 "cells": [
  {
   "cell_type": "markdown",
   "metadata": {},
   "source": [
    "# 一 PyTorch的简介和安装"
   ]
  },
  {
   "cell_type": "markdown",
   "metadata": {},
   "source": [
    "## 1 PyTorch的简介"
   ]
  },
  {
   "cell_type": "markdown",
   "metadata": {},
   "source": [
    "- PyTorch是由Meta AI(Facebook)人工智能研究小组开发的一种基于Lua编写的Torch库的Python实现的深度学习库\n",
    "- 优势：更加简洁、上手快、有着良好的文档和社区支持、项目开源、可以更好的调试代码、越来越完善的扩展库"
   ]
  },
  {
   "cell_type": "markdown",
   "metadata": {},
   "source": [
    "## 2 PyTorch的安装"
   ]
  },
  {
   "cell_type": "markdown",
   "metadata": {},
   "source": [
    "### 2.1 安装Anaconda/miniconda"
   ]
  },
  {
   "cell_type": "markdown",
   "metadata": {},
   "source": [
    "登陆[Anaconda | Individual Edition](https://www.anaconda.com/products/individual)，选择相应系统DownLoad"
   ]
  },
  {
   "cell_type": "markdown",
   "metadata": {},
   "source": [
    "#### 2.1.1 创建虚拟环境"
   ]
  },
  {
   "cell_type": "markdown",
   "metadata": {},
   "source": [
    "##### 查看现存虚拟环境：\n",
    "\n",
    "```bash\n",
    "conda env list \n",
    "```\n",
    "\n",
    "##### 创建虚拟环境：\n",
    "\n",
    "```bash\n",
    "conda create -n env_name python==version \n",
    "# 注：将env_name 替换成你的环境的名称，version替换成对应的版本号，eg：3.8\n",
    "```\n",
    "\n",
    "##### 安装包：\n",
    "\n",
    "```bash\n",
    "conda install package_name \n",
    "# 注：package_name 替换成对应的包的名称，eg: pandas\n",
    "```\n",
    "\n",
    "##### 卸载包\n",
    "\n",
    "```bash\n",
    "conda remove package_name\n",
    "# 注：package_name 替换成对应的包的名称，eg: pandas\n",
    "```\n",
    "\n",
    "##### 显示所有安装的包\n",
    "\n",
    "```bash\n",
    "conda list\n",
    "```\n",
    "\n",
    "##### 删除虚拟环境命令\n",
    "\n",
    "```bash\n",
    "conda remove -n env_name --all \n",
    "# 注：env_name 替换成对应的环境的名称\n",
    "```\n",
    "\n",
    "##### 激活环境命令\n",
    "\n",
    "```bash\n",
    "conda activate env_name\n",
    "# 注：env_name 替换成对应的环境的名称\n",
    "```\n",
    "\n",
    "##### 退出当前环境\n",
    "\n",
    "```bash\n",
    "conda deactivate\n",
    "```\n"
   ]
  },
  {
   "cell_type": "markdown",
   "metadata": {},
   "source": [
    "### 2.1.2 换源\n",
    "在安装package时，我们经常会使用pip install package_name和conda install package_name 的命令，但是一些package下载速度会很慢，因此我们需要进行换源，换成国内源，加快我们的下载速度。以下便是两种对应方式的永久换源。"
   ]
  },
  {
   "cell_type": "markdown",
   "metadata": {},
   "source": [
    "#### pip换源（Linux）：\n",
    "\n",
    "Linux下的换源，我们首先需要在用户目录下新建文件夹 `.pip`，并且在文件夹内新建文件 `pip.conf`，具体命令如下\n",
    "\n",
    "```bash\n",
    "cd ~\n",
    "mkdir .pip/\n",
    "vi pip.conf\n",
    "```\n",
    "\n",
    "随后，我们需要在 `pip.conf`添加下方的内容:\n",
    "\n",
    "```bash\n",
    "[global]\n",
    "index-url = http://pypi.douban.com/simple\n",
    "[install]\n",
    "use-mirrors =true\n",
    "mirrors =http://pypi.douban.com/simple/\n",
    "trusted-host =pypi.douban.com\n",
    "```"
   ]
  },
  {
   "cell_type": "markdown",
   "metadata": {},
   "source": [
    "#### conda换源（Linux）：\n",
    "在Linux系统下，我们还是需要修改 `.condarc`来进行换源\n",
    "\n",
    "```bash\n",
    "cd ~\n",
    "vi .condarc\n",
    "```\n",
    "\n",
    "在 `vim`下，我们需要输入 `i`进入编辑模式，将上方内容粘贴进去，按 `ESC`退出编辑模式，输入 `:wq`保存并退出\n",
    "\n",
    "```bash\n",
    "channels:\n",
    "  - defaults\n",
    "show_channel_urls: true\n",
    "default_channels:\n",
    "  - https://mirrors.tuna.tsinghua.edu.cn/anaconda/pkgs/main\n",
    "  - https://mirrors.tuna.tsinghua.edu.cn/anaconda/pkgs/r\n",
    "  - https://mirrors.tuna.tsinghua.edu.cn/anaconda/pkgs/msys2\n",
    "custom_channels:\n",
    "  conda-forge: https://mirrors.tuna.tsinghua.edu.cn/anaconda/cloud\n",
    "  msys2: https://mirrors.tuna.tsinghua.edu.cn/anaconda/cloud\n",
    "  bioconda: https://mirrors.tuna.tsinghua.edu.cn/anaconda/cloud\n",
    "  menpo: https://mirrors.tuna.tsinghua.edu.cn/anaconda/cloud\n",
    "  pytorch: https://mirrors.tuna.tsinghua.edu.cn/anaconda/cloud\n",
    "  simpleitk: https://mirrors.tuna.tsinghua.edu.cn/anaconda/cloud\n",
    "```\n"
   ]
  },
  {
   "cell_type": "markdown",
   "metadata": {},
   "source": [
    "### 2.2安装PyTorch"
   ]
  },
  {
   "cell_type": "markdown",
   "metadata": {},
   "source": [
    "登录[PyTorch官网](https://pytorch.org/)，选择合适的版本下载\n"
   ]
  },
  {
   "cell_type": "markdown",
   "metadata": {},
   "source": [
    "检验是否安装成功："
   ]
  },
  {
   "cell_type": "code",
   "execution_count": 3,
   "metadata": {},
   "outputs": [
    {
     "data": {
      "text/plain": [
       "False"
      ]
     },
     "execution_count": 3,
     "metadata": {},
     "output_type": "execute_result"
    }
   ],
   "source": [
    "import torch\n",
    "\n",
    "torch.cuda.is_available()\n"
   ]
  },
  {
   "cell_type": "markdown",
   "metadata": {},
   "source": [
    "这条命令意思是检验是否可以调用cuda，如果我们安装的是CPU版本的话会返回False，能够调用GPU的会返回True"
   ]
  }
 ],
 "metadata": {
  "kernelspec": {
   "display_name": "uni",
   "language": "python",
   "name": "python3"
  },
  "language_info": {
   "name": "python",
   "version": "3.11.5"
  }
 },
 "nbformat": 4,
 "nbformat_minor": 2
}
