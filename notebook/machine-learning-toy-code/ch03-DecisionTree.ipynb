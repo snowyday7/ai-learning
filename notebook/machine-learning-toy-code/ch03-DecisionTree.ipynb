{
 "cells": [
  {
   "cell_type": "markdown",
   "metadata": {},
   "source": [
    "# 三 DecisionTree 决策树"
   ]
  },
  {
   "cell_type": "markdown",
   "metadata": {},
   "source": [
    "## 1 决策树"
   ]
  },
  {
   "cell_type": "markdown",
   "metadata": {},
   "source": [
    "决策树模型就是数据结构中的树，根据**特征选择依据**(信息熵)等划分特征，生成决策树，然后**剪枝**提高泛化能力，可分类可回归，代表算法有ID3，C4.5和CART"
   ]
  },
  {
   "cell_type": "markdown",
   "metadata": {},
   "source": [
    "- sklearn"
   ]
  },
  {
   "cell_type": "code",
   "execution_count": null,
   "metadata": {},
   "outputs": [],
   "source": [
    "import seaborn as sns\n",
    "from pandas import plotting\n",
    "import pandas as pd\n",
    "import numpy as np\n",
    "import matplotlib.pyplot as plt\n",
    "from sklearn.tree import DecisionTreeClassifier\n",
    "from sklearn.datasets import load_iris\n",
    "from sklearn.model_selection import train_test_split\n",
    "from sklearn import tree\n",
    "\n",
    "# 加载数据集\n",
    "data = load_iris() \n",
    "# 转换成.DataFrame形式\n",
    "df = pd.DataFrame(data.data, columns = data.feature_names)\n",
    "# 添加品种列\n",
    "df['Species'] = data.target\n",
    "\n",
    "# 用数值替代品种名作为标签\n",
    "target = np.unique(data.target)\n",
    "target_names = np.unique(data.target_names)\n",
    "targets = dict(zip(target, target_names))\n",
    "df['Species'] = df['Species'].replace(targets)\n",
    "\n",
    "# 提取数据和标签\n",
    "X = df.drop(columns=\"Species\")\n",
    "y = df[\"Species\"]\n",
    "feature_names = X.columns\n",
    "labels = y.unique()\n",
    "\n",
    "X_train, test_x, y_train, test_lab = train_test_split(X,y,\n",
    "                                                 test_size = 0.4,\n",
    "                                                 random_state = 42)\n",
    "model = DecisionTreeClassifier(max_depth =3, random_state = 42)\n",
    "model.fit(X_train, y_train) \n",
    "# 以文字形式输出树     \n",
    "text_representation = tree.export_text(model)\n",
    "print(text_representation)\n",
    "# 用图片画出\n",
    "plt.figure(figsize=(30,10), facecolor ='g') #\n",
    "a = tree.plot_tree(model,\n",
    "                   feature_names = feature_names,\n",
    "                   class_names = labels,\n",
    "                   rounded = True,\n",
    "                   filled = True,\n",
    "                   fontsize=14)\n",
    "plt.show()                                          "
   ]
  }
 ],
 "metadata": {
  "kernelspec": {
   "display_name": "uni",
   "language": "python",
   "name": "python3"
  },
  "language_info": {
   "name": "python",
   "version": "3.11.5"
  }
 },
 "nbformat": 4,
 "nbformat_minor": 2
}
