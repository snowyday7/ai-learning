{
 "cells": [
  {
   "cell_type": "markdown",
   "metadata": {},
   "source": [
    "# 四 MLP 多层感知机"
   ]
  },
  {
   "cell_type": "markdown",
   "metadata": {},
   "source": [
    "## 1 MLP"
   ]
  },
  {
   "cell_type": "markdown",
   "metadata": {},
   "source": [
    "MLP（多层感知机，Multi-Layer Perceptron）是一种人工智能技术，它是一种神经网络模型，主要用于解决非线性问题。MLP 包括一个或多个隐层，除了输入层、隐层，还有输出层。隐层和输出层的神经元通过线性和非线性组合，对输入数据进行处理，以达到预定的目标，如图像识别、语音识别等。\n",
    "MLP 的激活函数和损失函数可以选择不同的类型，例如，激活函数可以选择 ReLU、tanh 等，损失函数可以选择均方误差（MSE）等。"
   ]
  },
  {
   "cell_type": "markdown",
   "metadata": {},
   "source": [
    "- sklearn"
   ]
  },
  {
   "cell_type": "code",
   "execution_count": null,
   "metadata": {},
   "outputs": [],
   "source": [
    "import numpy as np  \n",
    "from sklearn.model_selection import train_test_split  \n",
    "from sklearn.neural_network import MLPClassifier  \n",
    "from sklearn.metrics import accuracy_score\n",
    "\n",
    "# 创建数据集  \n",
    "X = np.random.rand(100, 10)  # 100 个样本，每个样本 10 维  \n",
    "y = np.random.randint(0, 2, (100, 1))  # 100 个样本，二分类问题\n",
    "\n",
    "# 划分训练集和测试集  \n",
    "X_train, X_test, y_train, y_test = train_test_split(X, y, test_size=0.2, random_state=42)\n",
    "\n",
    "# 创建 MLP 分类器  \n",
    "mlp = MLPClassifier(hidden_layer_sizes=(100,), activation='relu', solver='adam', max_iter=300, random_state=42)\n",
    "\n",
    "# 训练模型  \n",
    "mlp.fit(X_train, y_train)\n",
    "\n",
    "# 预测  \n",
    "y_pred = mlp.predict(X_test)\n",
    "\n",
    "# 计算准确率  \n",
    "accuracy = accuracy_score(y_test, y_pred)  \n",
    "print('Accuracy:', accuracy)  \n"
   ]
  },
  {
   "cell_type": "code",
   "execution_count": null,
   "metadata": {},
   "outputs": [],
   "source": [
    "from sklearn.neural_network import MLPClassifier\n",
    "from sklearn.datasets import fetch_openml\n",
    "import numpy as np\n",
    "\n",
    "mnist = fetch_openml('mnist_784')\n",
    "X, y = mnist['data'], mnist['target']\n",
    "X_train = np.array(X[:60000], dtype=float)\n",
    "y_train = np.array(y[:60000], dtype=float)\n",
    "X_test = np.array(X[60000:], dtype=float)\n",
    "y_test = np.array(y[60000:], dtype=float)\n",
    "\n",
    "clf = MLPClassifier(alpha=1e-5, hidden_layer_sizes=(15,15), random_state=1)\n",
    "\n",
    "clf.fit(X_train, y_train)\n",
    "\n",
    "score = clf.score(X_test, y_test)"
   ]
  },
  {
   "cell_type": "markdown",
   "metadata": {},
   "source": [
    "- pytorch"
   ]
  },
  {
   "cell_type": "code",
   "execution_count": null,
   "metadata": {},
   "outputs": [],
   "source": [
    "import torch  \n",
    "import torch.nn as nn  \n",
    "import torch.optim as optim  \n",
    "from torch.utils.data import DataLoader  \n",
    "from torchvision import datasets, transforms\n",
    "\n",
    "# 加载 MNIST 数据集  \n",
    "transform = transforms.Compose([transforms.ToTensor(), transforms.Normalize((0.5,), (0.5,))])  \n",
    "trainset = datasets.MNIST(root='./data', train=True, download=True, transform=transform)  \n",
    "trainloader = DataLoader(trainset, batch_size=100, shuffle=True)  \n",
    "testset = datasets.MNIST(root='./data', train=False, download=True, transform=transform)  \n",
    "testloader = DataLoader(testset, batch_size=100, shuffle=False)\n",
    "\n",
    "# 创建 MLP 分类器模型  \n",
    "class MLP(nn.Module):  \n",
    "    def __init__(self):  \n",
    "        super(MLP, self).__init__()  \n",
    "        self.fc1 = nn.Linear(28 * 28, 128)  \n",
    "        self.fc2 = nn.Linear(128, 64)  \n",
    "        self.fc3 = nn.Linear(64, 10)\n",
    "\n",
    "    def forward(self, x):  \n",
    "        x = x.view(-1, 28 * 28)  \n",
    "        x = torch.relu(self.fc1(x))  \n",
    "        x = torch.relu(self.fc2(x))  \n",
    "        x = self.fc3(x)  \n",
    "        return x\n",
    "\n",
    "# 初始化模型、损失函数和优化器  \n",
    "device = torch.device(\"cuda:0\" if torch.cuda.is_available() else \"cpu\")  \n",
    "model = MLP().to(device)  \n",
    "criterion = nn.CrossEntropyLoss()  \n",
    "optimizer = optim.Adam(model.parameters(), lr=0.001)\n",
    "\n",
    "# 训练模型  \n",
    "for epoch in range(10):  \n",
    "    running_loss = 0.0  \n",
    "    for i, data in enumerate(trainloader, 0):  \n",
    "        inputs, labels = data  \n",
    "        inputs, labels = inputs.to(device), labels.to(device)\n",
    "\n",
    "        optimizer.zero_grad()\n",
    "\n",
    "        outputs = model(inputs)  \n",
    "        loss = criterion(outputs, labels)  \n",
    "        loss.backward()  \n",
    "        optimizer.step()\n",
    "\n",
    "        running_loss += loss.item()  \n",
    "    print('Epoch %d, loss: %.3f' % (epoch + 1, running_loss / (i + 1)))\n",
    "\n",
    "model.eval()  \n",
    "with torch.no_grad():  \n",
    "    correct = 0  \n",
    "    total = 0  \n",
    "    for data in testloader:  \n",
    "        images, labels = data  \n",
    "        outputs = model(images)  \n",
    "        _, predicted = torch.max(outputs.data, 1)  \n",
    "        total += labels.size(0)  \n",
    "        correct += (predicted == labels).sum().item()\n",
    "\n",
    "    print(f'Accuracy of the network on the 10000 test images: {100 * correct / total}%')  \n"
   ]
  }
 ],
 "metadata": {
  "kernelspec": {
   "display_name": "uni",
   "language": "python",
   "name": "python3"
  },
  "language_info": {
   "name": "python",
   "version": "3.11.5"
  }
 },
 "nbformat": 4,
 "nbformat_minor": 2
}
