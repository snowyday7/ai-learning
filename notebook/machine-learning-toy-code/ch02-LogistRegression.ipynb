{
 "cells": [
  {
   "cell_type": "markdown",
   "metadata": {},
   "source": [
    "# 二 LogistRegression 逻辑回归"
   ]
  },
  {
   "cell_type": "markdown",
   "metadata": {},
   "source": [
    "## 1 逻辑回归"
   ]
  },
  {
   "cell_type": "markdown",
   "metadata": {},
   "source": [
    "给定数据$X=\\{x_1,x_2,...,\\}$,$Y=\\{y_1,y_2,...,\\}$\n",
    "考虑二分类任务，即$y_i\\in{\\{0,1\\}},i=1,2,...$,"
   ]
  },
  {
   "cell_type": "markdown",
   "metadata": {},
   "source": [
    "- 公式：\n",
    "\n",
    "$$\n",
    "h_{\\theta}(x)=\\frac{1}{1+e^{-\\theta^{T} x}}\n",
    "$$\n",
    "        或\n",
    "$$\n",
    "h_{\\theta}(x)=g\\left(\\theta^{T} x\\right), g(z)=\\frac{1}{1+e^{-z}}\n",
    "$$\n",
    "\n",
    "- 损失函数：\n",
    "\n",
    "$$\n",
    "J(\\theta)=-\\frac{1}{m}\\left[\\sum_{i=1}^{m}\\left(y^{(i)} \\log h_{\\theta}\\left(x^{(i)}\\right)+\\left(1-y^{(i)}\\right) \\log \\left(1-h_{\\theta}\\left(x^{(i)}\\right)\\right)\\right]\\right.\n",
    "$$\n",
    "\n",
    "- 梯度：\n",
    "\n",
    "$$\n",
    "\\frac{\\partial J(\\theta)}{\\partial \\theta_{j}} = \\frac{1}{m} \\sum_{i=0}^{m}\\left(h_{\\theta}-y^{i}\\left(x^{i}\\right)\\right) x_{j}^{i}\n",
    "$$"
   ]
  },
  {
   "cell_type": "markdown",
   "metadata": {},
   "source": [
    "- sklearn"
   ]
  },
  {
   "cell_type": "code",
   "execution_count": null,
   "metadata": {},
   "outputs": [],
   "source": [
    "import numpy as np\n",
    "from sklearn.datasets import fetch_openml\n",
    "from sklearn.linear_model import LogisticRegression\n",
    "\n",
    "# 数据\n",
    "mnist = fetch_openml('mnist_784')\n",
    "X, y = mnist['data'], mnist['target']\n",
    "X_train = np.array(X[:60000], dtype=float)\n",
    "y_train = np.array(y[:60000], dtype=float)\n",
    "X_test = np.array(X[60000:], dtype=float)\n",
    "y_test = np.array(y[60000:], dtype=float)\n",
    "\n",
    "print(X_train.shape)\n",
    "print(y_train.shape)\n",
    "print(X_test.shape)\n",
    "print(y_test.shape)\n",
    "\n",
    "clf = LogisticRegression(penalty=\"l1\", solver=\"saga\", tol=0.1)\n",
    "clf.fit(X_train, y_train)\n",
    "score = clf.score(X_test, y_test)\n",
    "print(\"Test score with L1 penalty: %.4f\" % score)"
   ]
  },
  {
   "cell_type": "markdown",
   "metadata": {},
   "source": [
    "- numpy"
   ]
  },
  {
   "cell_type": "code",
   "execution_count": null,
   "metadata": {},
   "outputs": [],
   "source": [
    "from torch.utils.data import DataLoader\n",
    "from torchvision import datasets\n",
    "import torchvision\n",
    "import torchvision.transforms as transforms\n",
    "import matplotlib.pyplot as plt\n",
    "import numpy as np\n",
    "import sys\n",
    "from pathlib import Path\n",
    "\n",
    "curr_path = str(Path().absolute())\n",
    "parent_path = str(Path().absolute().parent)\n",
    "p_parent_path = str(Path().absolute().parent.parent)\n",
    "sys.path.append(p_parent_path) \n",
    "print(f\"主目录为：{p_parent_path}\")\n",
    "\n",
    "train_dataset = datasets.MNIST(root = p_parent_path+'/datasets/', train = True, transform = transforms.ToTensor(), download = False)\n",
    "test_dataset = datasets.MNIST(root = p_parent_path+'/datasets/', train = False, transform = transforms.ToTensor(), download = False)\n",
    "\n",
    "batch_size = len(train_dataset)\n",
    "train_loader = DataLoader(dataset=train_dataset, batch_size=batch_size, shuffle=True)\n",
    "test_loader = DataLoader(dataset=test_dataset, batch_size=batch_size, shuffle=True)\n",
    "X_train,y_train = next(iter(train_loader))\n",
    "X_test,y_test = next(iter(test_loader))\n",
    "# 打印前100张图片\n",
    "images, labels= X_train[:100], y_train[:100] \n",
    "# 使用images生成宽度为10张图的网格大小\n",
    "img = torchvision.utils.make_grid(images, nrow=10)\n",
    "# cv2.imshow()的格式是(size1,size1,channels),而img的格式是(channels,size1,size1),\n",
    "# 所以需要使用.transpose()转换，将颜色通道数放至第三维\n",
    "img = img.numpy().transpose(1,2,0)\n",
    "print(images.shape)\n",
    "print(labels.reshape(10,10))\n",
    "print(img.shape)\n",
    "plt.imshow(img)\n",
    "plt.show()\n",
    "\n",
    "X_train,y_train = X_train.cpu().numpy(),y_train.cpu().numpy() # tensor转为array形式)\n",
    "X_test,y_test = X_test.cpu().numpy(),y_test.cpu().numpy() # tensor转为array形式)\n",
    "print(f\"数据格式：{type(X_train)}，数据维度：{X_train.shape}\")\n",
    "print(f\"数据格式：{type(y_train)}，数据维度：{y_train.shape}\")\n",
    "X_train = X_train.reshape(X_train.shape[0],784)\n",
    "print(f\"数据格式：{type(X_train)}，数据维度：{X_train.shape}\")\n",
    "\n",
    "ones_col=[[1] for i in range(len(X_train))] # 生成全为1的二维嵌套列表，即[[1],[1],...,[1]]\n",
    "X_train_modified=np.append(X_train,ones_col,axis=1)\n",
    "x_train_modified_mat = np.mat(X_train_modified)\n",
    "# Mnsit有0-9十个标记，由于是二分类任务，所以可以将标记0的作为1，其余为0用于识别是否为0的任务\n",
    "y_train_modified=np.array([1 if y_train[i]==1 else 0 for i in range(len(y_train))])\n",
    "\n",
    "theta = np.mat(np.zeros(len(X_train_modified[0])))\n",
    "n_epochs=10 \n",
    "lr = 0.01 # 学习率\n",
    "\n",
    "def sigmoid(x):\n",
    "    '''sigmoid函数\n",
    "    '''\n",
    "    return 1.0/(1+np.exp(-x))\n",
    "\n",
    "train_dataset = datasets.MNIST(p_parent_path+'/datasets/', train=True, download=False, transform=transforms.ToTensor())\n",
    "train_loader = DataLoader(dataset=train_dataset, batch_size=100, shuffle=True)\n",
    "images, labels = next(iter(train_loader))\n",
    "print(images)\n",
    "# 使用images生成宽度为10张图的网格大小\n",
    "img = torchvision.utils.make_grid(images, nrow=10)\n",
    "# cv2.imshow()的格式是(size1,size1,channels),而img的格式是(channels,size1,size1),\n",
    "# 所以需要使用.transpose()转换，将颜色通道数放至第三维\n",
    "img = img.numpy().transpose(1,2,0)\n",
    "# print(images.shape)\n",
    "# print(labels.reshape(10,10))\n",
    "plt.imshow(img)\n",
    "plt.show()\n",
    "\n",
    "\n",
    "for i_epoch in range(n_epochs):\n",
    "    loss_epoch = 0\n",
    "    for i in range(len(X_train_modified)):\n",
    "        hypothesis = sigmoid(np.dot(X_train_modified[i], theta.T))\n",
    "        error = y_train_modified[i]- hypothesis\n",
    "        grad = error*x_train_modified_mat[i]\n",
    "        theta += lr*grad\n",
    "        loss_epoch+=error.item()\n",
    "    # loss_epoch /= len(X_train_modified)\n",
    "    print(f\"回合数：{i_epoch+1}/{n_epochs}，损失：{loss_epoch:.4f}\")"
   ]
  }
 ],
 "metadata": {
  "kernelspec": {
   "display_name": "uni",
   "language": "python",
   "name": "python3"
  },
  "language_info": {
   "codemirror_mode": {
    "name": "ipython",
    "version": 3
   },
   "file_extension": ".py",
   "mimetype": "text/x-python",
   "name": "python",
   "nbconvert_exporter": "python",
   "pygments_lexer": "ipython3",
   "version": "3.11.5"
  }
 },
 "nbformat": 4,
 "nbformat_minor": 2
}
