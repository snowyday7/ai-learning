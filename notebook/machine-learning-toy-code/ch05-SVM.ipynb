{
 "cells": [
  {
   "cell_type": "markdown",
   "metadata": {},
   "source": [
    "# 五 SVM 支持向量机"
   ]
  },
  {
   "cell_type": "markdown",
   "metadata": {},
   "source": [
    "支持向量机（SVM）是一种二类分类模型，其基本模型是在特征空间中寻找间隔最大化的分离超平面"
   ]
  },
  {
   "cell_type": "markdown",
   "metadata": {},
   "source": [
    "## 1 线性SVM"
   ]
  },
  {
   "cell_type": "markdown",
   "metadata": {},
   "source": [
    "- 线性SVM函数\n",
    "\n",
    "$$\n",
    "f(\\mathbf{x}) = \\mathbf{w}^\\top \\mathbf{x} + b\n",
    "$$\n",
    "\n",
    "- 非线性SVM函数（使用核技巧）\n",
    "\n",
    "$$\n",
    "f(\\mathbf{x}) = \\sum_{i=1}^{n} \\alpha_i y_i K(\\mathbf{x}_i, \\mathbf{x}) + b\n",
    "$$\n",
    "\n",
    "- 损失函数（铰链损失（Hinge Loss），用于最大化类别间的边缘）\n",
    "\n",
    "$$\n",
    "L(\\mathbf{w}) = \\sum_{i=1}^{n} \\max(0, 1 - y_i (\\mathbf{w}^\\top \\mathbf{x}_i + b)) + \\lambda \\|\\mathbf{w}\\|^2\n",
    "$$"
   ]
  },
  {
   "cell_type": "markdown",
   "metadata": {},
   "source": [
    "- sklearn"
   ]
  },
  {
   "cell_type": "code",
   "execution_count": 3,
   "metadata": {},
   "outputs": [
    {
     "name": "stdout",
     "output_type": "stream",
     "text": [
      "[[-0.1   -0.098 -0.096 ...  1.096  1.098  1.1  ]\n",
      " [-0.1   -0.098 -0.096 ...  1.096  1.098  1.1  ]\n",
      " [-0.1   -0.098 -0.096 ...  1.096  1.098  1.1  ]\n",
      " ...\n",
      " [-0.1   -0.098 -0.096 ...  1.096  1.098  1.1  ]\n",
      " [-0.1   -0.098 -0.096 ...  1.096  1.098  1.1  ]\n",
      " [-0.1   -0.098 -0.096 ...  1.096  1.098  1.1  ]]\n"
     ]
    },
    {
     "data": {
      "image/png": "[encoded data removed]",
      "text/plain": [
       "<Figure size 640x480 with 1 Axes>"
      ]
     },
     "metadata": {},
     "output_type": "display_data"
    }
   ],
   "source": [
    "import numpy as np\n",
    "import matplotlib.pyplot as plt\n",
    "from sklearn import svm\n",
    "\n",
    "data = np.array([\n",
    "    [0.1, 0.7],\n",
    "    [0.3, 0.6],\n",
    "    [0.4, 0.1],\n",
    "    [0.5, 0.4],\n",
    "    [0.8, 0.04],\n",
    "    [0.42, 0.6],\n",
    "    [0.9, 0.4],\n",
    "    [0.6, 0.5],\n",
    "    [0.7, 0.2],\n",
    "    [0.7, 0.67],\n",
    "    [0.27, 0.8],\n",
    "    [0.5, 0.72]\n",
    "])# 建立数据集\n",
    "label = [1] * 6 + [0] * 6 #前六个数据的label为1后六个为0\n",
    "x_min, x_max = data[:, 0].min() - 0.2, data[:, 0].max() + 0.2\n",
    "y_min, y_max = data[:, 1].min() - 0.2, data[:, 1].max() + 0.2\n",
    "xx, yy = np.meshgrid(np.arange(x_min, x_max, 0.002),\n",
    "                     np.arange(y_min, y_max, 0.002)) # meshgrid如何生成网格\n",
    "print(xx)\n",
    "model_linear = svm.SVC(kernel='linear', C = 0.001)# 线性svm\n",
    "model_linear.fit(data, label) # 训练\n",
    "Z = model_linear.predict(np.c_[xx.ravel(), yy.ravel()]) # 预测\n",
    "Z = Z.reshape(xx.shape)\n",
    "plt.contourf(xx, yy, Z, cmap = plt.cm.ocean, alpha=0.6)\n",
    "plt.scatter(data[:6, 0], data[:6, 1], marker='o', color='r', s=100, lw=3) \n",
    "plt.scatter(data[6:, 0], data[6:, 1], marker='x', color='k', s=100, lw=3)\n",
    "plt.title('Linear SVM')\n",
    "plt.show()"
   ]
  },
  {
   "cell_type": "code",
   "execution_count": 21,
   "metadata": {},
   "outputs": [
    {
     "name": "stdout",
     "output_type": "stream",
     "text": [
      "SVC(C=0.1, gamma=1, kernel='poly')\n",
      "[[19  0  0]\n",
      " [ 0 13  0]\n",
      " [ 0  1 12]]\n",
      "              precision    recall  f1-score   support\n",
      "\n",
      "           0       1.00      1.00      1.00        19\n",
      "           1       0.93      1.00      0.96        13\n",
      "           2       1.00      0.92      0.96        13\n",
      "\n",
      "    accuracy                           0.98        45\n",
      "   macro avg       0.98      0.97      0.97        45\n",
      "weighted avg       0.98      0.98      0.98        45\n",
      "\n",
      "0.9777777777777777\n"
     ]
    }
   ],
   "source": [
    "from sklearn import datasets\n",
    "from sklearn.model_selection import train_test_split, GridSearchCV\n",
    "from sklearn.preprocessing import StandardScaler\n",
    "from sklearn.svm import SVC\n",
    "from sklearn.metrics import classification_report, confusion_matrix, accuracy_score\n",
    "\n",
    "# 加载数据\n",
    "iris = datasets.load_iris()\n",
    "X = iris.data\n",
    "y = iris.target\n",
    "\n",
    "# 数据划分\n",
    "X_train, X_test, y_train, y_test = train_test_split(X, y, test_size=0.3, random_state=42)\n",
    "\n",
    "# 数据标准化\n",
    "scaler = StandardScaler()\n",
    "X_train = scaler.fit_transform(X_train)\n",
    "X_test = scaler.transform(X_test)\n",
    "\n",
    "# SVM 模型与超参数网格\n",
    "model = SVC()\n",
    "param_grid = {\n",
    "    'C': [0.1, 1, 10, 100],  # 正则化参数\n",
    "    'gamma': [1, 0.1, 0.01, 0.001],  # RBF核的参数\n",
    "    'kernel': ['rbf', 'poly', 'sigmoid', 'linear']\n",
    "}\n",
    "\n",
    "# 网格搜索与交叉验证\n",
    "grid = GridSearchCV(model, param_grid, refit=True, verbose=0)\n",
    "grid.fit(X_train, y_train)\n",
    "\n",
    "# 最佳参数模型\n",
    "best_model = grid.best_estimator_\n",
    "print(best_model)\n",
    "# 模型评估\n",
    "predictions = best_model.predict(X_test)\n",
    "\n",
    "# 评估结果\n",
    "print(confusion_matrix(y_test, predictions))\n",
    "print(classification_report(y_test, predictions))\n",
    "print(accuracy_score(y_test, predictions))"
   ]
  },
  {
   "cell_type": "code",
   "execution_count": null,
   "metadata": {},
   "outputs": [
    {
     "name": "stdout",
     "output_type": "stream",
     "text": [
      "SVC(C=0.1, gamma=1, kernel='poly')\n",
      "              precision    recall  f1-score   support\n",
      "\n",
      "           0       1.00      1.00      1.00        19\n",
      "           1       0.93      1.00      0.96        13\n",
      "           2       1.00      0.92      0.96        13\n",
      "\n",
      "    accuracy                           0.98        45\n",
      "   macro avg       0.98      0.97      0.97        45\n",
      "weighted avg       0.98      0.98      0.98        45\n",
      "\n",
      "0.9777777777777777\n"
     ]
    }
   ],
   "source": [
    "from sklearn import datasets\n",
    "from sklearn.model_selection import train_test_split, GridSearchCV\n",
    "from sklearn.preprocessing import StandardScaler\n",
    "from sklearn.svm import SVC\n",
    "from sklearn.metrics import classification_report, confusion_matrix, accuracy_score\n",
    "\n",
    "# 加载数据\n",
    "iris = datasets.load_iris()\n",
    "X = iris.data\n",
    "y = iris.target\n",
    "\n",
    "# 数据划分\n",
    "X_train, X_test, y_train, y_test = train_test_split(X, y, test_size=0.3, random_state=42)\n",
    "\n",
    "# 数据标准化\n",
    "scaler = StandardScaler()\n",
    "X_train = scaler.fit_transform(X_train)\n",
    "X_test = scaler.transform(X_test)\n",
    "\n",
    "# SVM 模型与超参数网格\n",
    "model = SVC()\n",
    "param_grid = {\n",
    "    'C': [0.1, 1, 10, 100],  # 正则化参数\n",
    "    'gamma': [1, 0.1, 0.01, 0.001],  # RBF核的参数\n",
    "    'kernel': ['rbf', 'poly', 'sigmoid', 'linear']\n",
    "}\n",
    "\n",
    "# 网格搜索与交叉验证\n",
    "grid = GridSearchCV(model, param_grid, refit=True, verbose=0)\n",
    "grid.fit(X_train, y_train)\n",
    "\n",
    "# 最佳参数模型\n",
    "best_model = grid.best_estimator_\n",
    "print(best_model)\n",
    "# 模型评估\n",
    "predictions = best_model.predict(X_test)\n",
    "\n",
    "# 评估结果\n",
    "# print(confusion_matrix(y_test, predictions))\n",
    "print(classification_report(y_test, predictions))\n",
    "print(accuracy_score(y_test, predictions))"
   ]
  }
 ],
 "metadata": {
  "kernelspec": {
   "display_name": "uni",
   "language": "python",
   "name": "python3"
  },
  "language_info": {
   "codemirror_mode": {
    "name": "ipython",
    "version": 3
   },
   "file_extension": ".py",
   "mimetype": "text/x-python",
   "name": "python",
   "nbconvert_exporter": "python",
   "pygments_lexer": "ipython3",
   "version": "3.11.5"
  }
 },
 "nbformat": 4,
 "nbformat_minor": 2
}
