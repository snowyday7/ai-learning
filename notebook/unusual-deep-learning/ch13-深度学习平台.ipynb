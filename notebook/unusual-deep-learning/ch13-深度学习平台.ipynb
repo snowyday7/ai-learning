{
 "cells": [
  {
   "cell_type": "markdown",
   "metadata": {},
   "source": [
    "# 十三 深度学习平台"
   ]
  },
  {
   "cell_type": "markdown",
   "metadata": {},
   "source": [
    "PyTorch\n",
    "\n",
    "Tensorflow\n",
    "\n",
    "Keras\n",
    "\n",
    "PaddlePaddle"
   ]
  }
 ],
 "metadata": {
  "language_info": {
   "name": "python"
  }
 },
 "nbformat": 4,
 "nbformat_minor": 2
}
