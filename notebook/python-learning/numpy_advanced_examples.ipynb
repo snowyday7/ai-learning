{
 "cells": [
  {
   "cell_type": "markdown",
   "metadata": {},
   "source": [
    "# Numpy 从基础到进阶的详细使用案例"
   ]
  },
  {
   "cell_type": "code",
   "execution_count": 1,
   "metadata": {},
   "outputs": [],
   "source": [
    "import numpy as np\n",
    "import matplotlib.pyplot as plt\n",
    "from scipy import linalg"
   ]
  },
  {
   "cell_type": "markdown",
   "metadata": {},
   "source": [
    "## 1. Numpy基础操作"
   ]
  },
  {
   "cell_type": "code",
   "execution_count": 2,
   "metadata": {},
   "outputs": [
    {
     "name": "stdout",
     "output_type": "stream",
     "text": [
      "==================================================\n",
      "1. Numpy基础操作\n",
      "==================================================\n",
      "\n",
      "1.1 创建数组的多种方式\n",
      "一维数组: [1 2 3 4 5]\n",
      "二维数组:\n",
      "[[1 2 3]\n",
      " [4 5 6]]\n",
      "全零数组:\n",
      "[[0. 0. 0. 0.]\n",
      " [0. 0. 0. 0.]\n",
      " [0. 0. 0. 0.]]\n",
      "全一数组:\n",
      "[[1. 1. 1.]\n",
      " [1. 1. 1.]]\n",
      "填充数组:\n",
      "[[7 7]\n",
      " [7 7]]\n",
      "单位矩阵:\n",
      "[[1. 0. 0.]\n",
      " [0. 1. 0.]\n",
      " [0. 0. 1.]]\n",
      "等差数列: [0 2 4 6 8]\n",
      "线性空间: [0.   0.25 0.5  0.75 1.  ]\n",
      "随机数组:\n",
      "[[0.37148783 0.14593383 0.08151387]\n",
      " [0.88250674 0.11092649 0.44299836]]\n"
     ]
    }
   ],
   "source": [
    "print(\"=\"*50)\n",
    "print(\"1. Numpy基础操作\")\n",
    "print(\"=\"*50)\n",
    "\n",
    "# 创建数组的多种方式\n",
    "print(\"\\n1.1 创建数组的多种方式\")\n",
    "array1 = np.array([1, 2, 3, 4, 5])  # 从列表创建\n",
    "array2 = np.array([[1, 2, 3], [4, 5, 6]])  # 二维数组\n",
    "array3 = np.zeros((3, 4))  # 全零数组\n",
    "array4 = np.ones((2, 3))   # 全一数组\n",
    "array5 = np.full((2, 2), 7)  # 填充指定值\n",
    "array6 = np.eye(3)  # 单位矩阵\n",
    "array7 = np.arange(0, 10, 2)  # 等差数列\n",
    "array8 = np.linspace(0, 1, 5)  # 线性空间\n",
    "array9 = np.random.random((2, 3))  # 随机数组\n",
    "\n",
    "print(f\"一维数组: {array1}\")\n",
    "print(f\"二维数组:\\n{array2}\")\n",
    "print(f\"全零数组:\\n{array3}\")\n",
    "print(f\"全一数组:\\n{array4}\")\n",
    "print(f\"填充数组:\\n{array5}\")\n",
    "print(f\"单位矩阵:\\n{array6}\")\n",
    "print(f\"等差数列: {array7}\")\n",
    "print(f\"线性空间: {array8}\")\n",
    "print(f\"随机数组:\\n{array9}\")"
   ]
  },
  {
   "cell_type": "markdown",
   "metadata": {},
   "source": [
    "### 1.2 数组属性"
   ]
  },
  {
   "cell_type": "code",
   "execution_count": 3,
   "metadata": {},
   "outputs": [
    {
     "name": "stdout",
     "output_type": "stream",
     "text": [
      "数组形状: (2, 2, 2)\n",
      "数组维度: 3\n",
      "数组大小: 8\n",
      "数据类型: int64\n",
      "每个元素字节数: 8\n",
      "总字节数: 64\n"
     ]
    }
   ],
   "source": [
    "test_array = np.array([[[1, 2], [3, 4]], [[5, 6], [7, 8]]])\n",
    "print(f\"数组形状: {test_array.shape}\")\n",
    "print(f\"数组维度: {test_array.ndim}\")\n",
    "print(f\"数组大小: {test_array.size}\")\n",
    "print(f\"数据类型: {test_array.dtype}\")\n",
    "print(f\"每个元素字节数: {test_array.itemsize}\")\n",
    "print(f\"总字节数: {test_array.nbytes}\")"
   ]
  },
  {
   "cell_type": "markdown",
   "metadata": {},
   "source": [
    "## 2. 数组形状操作"
   ]
  },
  {
   "cell_type": "code",
   "execution_count": 4,
   "metadata": {},
   "outputs": [
    {
     "name": "stdout",
     "output_type": "stream",
     "text": [
      "\n",
      "==================================================\n",
      "2. 数组形状操作\n",
      "==================================================\n",
      "原始数组: [ 0  1  2  3  4  5  6  7  8  9 10 11]\n",
      "重塑为3x4:\n",
      "[[ 0  1  2  3]\n",
      " [ 4  5  6  7]\n",
      " [ 8  9 10 11]]\n",
      "调整大小为2x6:\n",
      "[[ 0  1  2  3  4  5]\n",
      " [ 6  7  8  9 10 11]]\n",
      "展平数组: [ 0  1  2  3  4  5  6  7  8  9 10 11]\n",
      "拉平数组: [ 0  1  2  3  4  5  6  7  8  9 10 11]\n",
      "转置数组:\n",
      "[[ 0  4  8]\n",
      " [ 1  5  9]\n",
      " [ 2  6 10]\n",
      " [ 3  7 11]]\n",
      "交换轴:\n",
      "[[ 0  4  8]\n",
      " [ 1  5  9]\n",
      " [ 2  6 10]\n",
      " [ 3  7 11]]\n"
     ]
    }
   ],
   "source": [
    "print(\"\\n\" + \"=\"*50)\n",
    "print(\"2. 数组形状操作\")\n",
    "print(\"=\"*50)\n",
    "\n",
    "original = np.arange(12)\n",
    "print(f\"原始数组: {original}\")\n",
    "\n",
    "# reshape - 改变形状\n",
    "reshaped = original.reshape(3, 4)\n",
    "print(f\"重塑为3x4:\\n{reshaped}\")\n",
    "\n",
    "# resize - 原地改变大小\n",
    "resized = original.copy()\n",
    "resized.resize(2, 6)\n",
    "print(f\"调整大小为2x6:\\n{resized}\")\n",
    "\n",
    "# flatten vs ravel\n",
    "flattened = reshaped.flatten()  # 返回副本\n",
    "raveled = reshaped.ravel()      # 返回视图\n",
    "print(f\"展平数组: {flattened}\")\n",
    "print(f\"拉平数组: {raveled}\")\n",
    "\n",
    "# 转置\n",
    "transposed = reshaped.T\n",
    "print(f\"转置数组:\\n{transposed}\")\n",
    "\n",
    "# swapaxes - 交换轴\n",
    "swapped = reshaped.swapaxes(0, 1)\n",
    "print(f\"交换轴:\\n{swapped}\")"
   ]
  },
  {
   "cell_type": "markdown",
   "metadata": {},
   "source": [
    "## 3. 数组索引和切片"
   ]
  },
  {
   "cell_type": "code",
   "execution_count": 5,
   "metadata": {},
   "outputs": [
    {
     "name": "stdout",
     "output_type": "stream",
     "text": [
      "\n",
      "==================================================\n",
      "3. 数组索引和切片\n",
      "==================================================\n",
      "原始数组:\n",
      "[[ 0  1  2  3  4  5]\n",
      " [ 6  7  8  9 10 11]\n",
      " [12 13 14 15 16 17]\n",
      " [18 19 20 21 22 23]]\n",
      "\n",
      "3.1 基本索引\n",
      "第2行第3列: 8\n",
      "第1行: [0 1 2 3 4 5]\n",
      "第3列: [ 2  8 14 20]\n",
      "前2行前3列:\n",
      "[[0 1 2]\n",
      " [6 7 8]]\n",
      "\n",
      "3.2 高级索引\n",
      "指定位置元素: [ 1 15 23]\n",
      "大于10的元素: [11 12 13 14 15 16 17 18 19 20 21 22 23]\n",
      "花式索引结果:\n",
      "[[ 1  3  5]\n",
      " [13 15 17]]\n"
     ]
    }
   ],
   "source": [
    "print(\"\\n\" + \"=\"*50)\n",
    "print(\"3. 数组索引和切片\")\n",
    "print(\"=\"*50)\n",
    "\n",
    "arr = np.arange(24).reshape(4, 6)\n",
    "print(f\"原始数组:\\n{arr}\")\n",
    "\n",
    "# 基本索引\n",
    "print(f\"\\n3.1 基本索引\")\n",
    "print(f\"第2行第3列: {arr[1, 2]}\")\n",
    "print(f\"第1行: {arr[0]}\")\n",
    "print(f\"第3列: {arr[:, 2]}\")\n",
    "print(f\"前2行前3列:\\n{arr[:2, :3]}\")\n",
    "\n",
    "# 高级索引\n",
    "print(f\"\\n3.2 高级索引\")\n",
    "# 整数数组索引\n",
    "rows = np.array([0, 2, 3])\n",
    "cols = np.array([1, 3, 5])\n",
    "print(f\"指定位置元素: {arr[rows, cols]}\")\n",
    "\n",
    "# 布尔索引\n",
    "mask = arr > 10\n",
    "print(f\"大于10的元素: {arr[mask]}\")\n",
    "\n",
    "# 花式索引\n",
    "fancy_indexed = arr[[0, 2], :][:, [1, 3, 5]]\n",
    "print(f\"花式索引结果:\\n{fancy_indexed}\")"
   ]
  },
  {
   "cell_type": "markdown",
   "metadata": {},
   "source": [
    "## 4. 数组运算"
   ]
  },
  {
   "cell_type": "code",
   "execution_count": 6,
   "metadata": {},
   "outputs": [
    {
     "name": "stdout",
     "output_type": "stream",
     "text": [
      "\n",
      "==================================================\n",
      "4. 数组运算\n",
      "==================================================\n",
      "数组a:\n",
      "[[1 2]\n",
      " [3 4]]\n",
      "数组b:\n",
      "[[5 6]\n",
      " [7 8]]\n",
      "\n",
      "4.1 基本运算\n",
      "加法:\n",
      "[[ 6  8]\n",
      " [10 12]]\n",
      "减法:\n",
      "[[-4 -4]\n",
      " [-4 -4]]\n",
      "乘法(元素级):\n",
      "[[ 5 12]\n",
      " [21 32]]\n",
      "除法:\n",
      "[[0.2        0.33333333]\n",
      " [0.42857143 0.5       ]]\n",
      "幂运算:\n",
      "[[ 1  4]\n",
      " [ 9 16]]\n",
      "\n",
      "4.2 矩阵运算\n",
      "矩阵乘法:\n",
      "[[19 22]\n",
      " [43 50]]\n",
      "矩阵乘法(新语法):\n",
      "[[19 22]\n",
      " [43 50]]\n",
      "\n",
      "4.3 通用函数\n",
      "角度: [0.         0.78539816 1.57079633 3.14159265]\n",
      "正弦值: [0.00000000e+00 7.07106781e-01 1.00000000e+00 1.22464680e-16]\n",
      "余弦值: [ 1.00000000e+00  7.07106781e-01  6.12323400e-17 -1.00000000e+00]\n",
      "指数: [ 2.71828183  7.3890561  20.08553692]\n",
      "对数: [0. 1. 2.]\n"
     ]
    }
   ],
   "source": [
    "print(\"\\n\" + \"=\"*50)\n",
    "print(\"4. 数组运算\")\n",
    "print(\"=\"*50)\n",
    "\n",
    "a = np.array([[1, 2], [3, 4]])\n",
    "b = np.array([[5, 6], [7, 8]])\n",
    "\n",
    "print(f\"数组a:\\n{a}\")\n",
    "print(f\"数组b:\\n{b}\")\n",
    "\n",
    "# 基本运算\n",
    "print(f\"\\n4.1 基本运算\")\n",
    "print(f\"加法:\\n{a + b}\")\n",
    "print(f\"减法:\\n{a - b}\")\n",
    "print(f\"乘法(元素级):\\n{a * b}\")\n",
    "print(f\"除法:\\n{a / b}\")\n",
    "print(f\"幂运算:\\n{a ** 2}\")\n",
    "\n",
    "# 矩阵运算\n",
    "print(f\"\\n4.2 矩阵运算\")\n",
    "print(f\"矩阵乘法:\\n{np.dot(a, b)}\")\n",
    "print(f\"矩阵乘法(新语法):\\n{a @ b}\")\n",
    "\n",
    "# 通用函数\n",
    "print(f\"\\n4.3 通用函数\")\n",
    "angles = np.array([0, np.pi/4, np.pi/2, np.pi])\n",
    "print(f\"角度: {angles}\")\n",
    "print(f\"正弦值: {np.sin(angles)}\")\n",
    "print(f\"余弦值: {np.cos(angles)}\")\n",
    "print(f\"指数: {np.exp([1, 2, 3])}\")\n",
    "print(f\"对数: {np.log([1, np.e, np.e**2])}\")"
   ]
  },
  {
   "cell_type": "markdown",
   "metadata": {},
   "source": [
    "## 5. 统计函数"
   ]
  },
  {
   "cell_type": "code",
   "execution_count": 7,
   "metadata": {},
   "outputs": [
    {
     "name": "stdout",
     "output_type": "stream",
     "text": [
      "\n",
      "==================================================\n",
      "5. 统计函数\n",
      "==================================================\n",
      "随机数据:\n",
      "[[44.19792053 47.54031908 39.63217262 50.86050705 72.0721636 ]\n",
      " [27.19453101 58.1681018  57.41304455 52.42596706 60.09416829]\n",
      " [49.40828219 53.95984009 59.80751489 48.7735961  61.39712276]\n",
      " [46.21592246 41.68052865 32.75953276 49.93128526 43.05168684]]\n",
      "\n",
      "5.1 基本统计\n",
      "均值: 49.83\n",
      "中位数: 49.67\n",
      "标准差: 10.14\n",
      "方差: 102.84\n",
      "最小值: 27.19\n",
      "最大值: 72.07\n",
      "极差: 44.88\n",
      "\n",
      "5.2 按轴统计\n",
      "按行均值: [50.86061658 51.05916254 54.6692712  42.7277912 ]\n",
      "按列均值: [41.75416405 50.3371974  47.40306621 50.49783887 59.15378537]\n",
      "\n",
      "5.3 百分位数\n",
      "25%分位数: 43.91\n",
      "50%分位数: 49.67\n",
      "75%分位数: 57.60\n",
      "90%分位数: 60.22\n",
      "95%分位数: 61.93\n"
     ]
    }
   ],
   "source": [
    "print(\"\\n\" + \"=\"*50)\n",
    "print(\"5. 统计函数\")\n",
    "print(\"=\"*50)\n",
    "\n",
    "data = np.random.randn(4, 5) * 10 + 50  # 正态分布数据\n",
    "print(f\"随机数据:\\n{data}\")\n",
    "\n",
    "print(f\"\\n5.1 基本统计\")\n",
    "print(f\"均值: {np.mean(data):.2f}\")\n",
    "print(f\"中位数: {np.median(data):.2f}\")\n",
    "print(f\"标准差: {np.std(data):.2f}\")\n",
    "print(f\"方差: {np.var(data):.2f}\")\n",
    "print(f\"最小值: {np.min(data):.2f}\")\n",
    "print(f\"最大值: {np.max(data):.2f}\")\n",
    "print(f\"极差: {np.ptp(data):.2f}\")\n",
    "\n",
    "print(f\"\\n5.2 按轴统计\")\n",
    "print(f\"按行均值: {np.mean(data, axis=1)}\")\n",
    "print(f\"按列均值: {np.mean(data, axis=0)}\")\n",
    "\n",
    "print(f\"\\n5.3 百分位数\")\n",
    "percentiles = [25, 50, 75, 90, 95]\n",
    "for p in percentiles:\n",
    "    print(f\"{p}%分位数: {np.percentile(data, p):.2f}\")"
   ]
  },
  {
   "cell_type": "markdown",
   "metadata": {},
   "source": [
    "## 6. 数组合并和分割"
   ]
  },
  {
   "cell_type": "code",
   "execution_count": 8,
   "metadata": {},
   "outputs": [
    {
     "name": "stdout",
     "output_type": "stream",
     "text": [
      "\n",
      "==================================================\n",
      "6. 数组合并和分割\n",
      "==================================================\n",
      "数组1:\n",
      "[[1 2]\n",
      " [3 4]]\n",
      "数组2:\n",
      "[[5 6]\n",
      " [7 8]]\n",
      "\n",
      "6.1 数组合并\n",
      "垂直合并:\n",
      "[[1 2]\n",
      " [3 4]\n",
      " [5 6]\n",
      " [7 8]]\n",
      "水平合并:\n",
      "[[1 2 5 6]\n",
      " [3 4 7 8]]\n",
      "深度合并:\n",
      "[[[1 5]\n",
      "  [2 6]]\n",
      "\n",
      " [[3 7]\n",
      "  [4 8]]]\n",
      "concatenate合并(axis=0):\n",
      "[[1 2]\n",
      " [3 4]\n",
      " [5 6]\n",
      " [7 8]]\n",
      "concatenate合并(axis=1):\n",
      "[[1 2 5 6]\n",
      " [3 4 7 8]]\n",
      "\n",
      "6.2 数组分割\n",
      "原数组:\n",
      "[[ 0  1  2  3]\n",
      " [ 4  5  6  7]\n",
      " [ 8  9 10 11]\n",
      " [12 13 14 15]]\n",
      "垂直分割: 2个数组\n",
      "第1个:\n",
      "[[0 1 2 3]\n",
      " [4 5 6 7]]\n",
      "第2个:\n",
      "[[ 8  9 10 11]\n",
      " [12 13 14 15]]\n",
      "水平分割: 2个数组\n"
     ]
    }
   ],
   "source": [
    "print(\"\\n\" + \"=\"*50)\n",
    "print(\"6. 数组合并和分割\")\n",
    "print(\"=\"*50)\n",
    "\n",
    "arr1 = np.array([[1, 2], [3, 4]])\n",
    "arr2 = np.array([[5, 6], [7, 8]])\n",
    "\n",
    "print(f\"数组1:\\n{arr1}\")\n",
    "print(f\"数组2:\\n{arr2}\")\n",
    "\n",
    "# 合并\n",
    "print(f\"\\n6.1 数组合并\")\n",
    "print(f\"垂直合并:\\n{np.vstack((arr1, arr2))}\")\n",
    "print(f\"水平合并:\\n{np.hstack((arr1, arr2))}\")\n",
    "print(f\"深度合并:\\n{np.dstack((arr1, arr2))}\")\n",
    "print(f\"concatenate合并(axis=0):\\n{np.concatenate((arr1, arr2), axis=0)}\")\n",
    "print(f\"concatenate合并(axis=1):\\n{np.concatenate((arr1, arr2), axis=1)}\")\n",
    "\n",
    "# 分割\n",
    "print(f\"\\n6.2 数组分割\")\n",
    "big_array = np.arange(16).reshape(4, 4)\n",
    "print(f\"原数组:\\n{big_array}\")\n",
    "\n",
    "v_split = np.vsplit(big_array, 2)\n",
    "print(f\"垂直分割: {len(v_split)}个数组\")\n",
    "for i, arr in enumerate(v_split):\n",
    "    print(f\"第{i+1}个:\\n{arr}\")\n",
    "\n",
    "h_split = np.hsplit(big_array, 2)\n",
    "print(f\"水平分割: {len(h_split)}个数组\")"
   ]
  },
  {
   "cell_type": "markdown",
   "metadata": {},
   "source": [
    "## 7. 线性代数"
   ]
  },
  {
   "cell_type": "code",
   "execution_count": 9,
   "metadata": {},
   "outputs": [
    {
     "name": "stdout",
     "output_type": "stream",
     "text": [
      "\n",
      "==================================================\n",
      "7. 线性代数\n",
      "==================================================\n",
      "矩阵A:\n",
      "[[ 1  2  3]\n",
      " [ 4  5  6]\n",
      " [ 7  8 10]]\n",
      "向量b: [1 2 3]\n",
      "\n",
      "7.1 基本线性代数运算\n",
      "矩阵行列式: -3.00\n",
      "矩阵迹: 16\n",
      "矩阵秩: 3\n",
      "\n",
      "7.2 特征值和特征向量\n",
      "特征值: [16.70749332 -0.90574018  0.19824686]\n",
      "特征向量:\n",
      "[[-0.22351336 -0.86584578  0.27829649]\n",
      " [-0.50394563  0.0856512  -0.8318468 ]\n",
      " [-0.83431444  0.4929249   0.48018951]]\n",
      "\n",
      "7.3 奇异值分解\n",
      "U矩阵形状: (3, 3)\n",
      "奇异值: [17.41250517  0.87516135  0.19686652]\n",
      "Vt矩阵形状: (3, 3)\n",
      "\n",
      "7.4 线性方程组解: [-3.33333333e-01  6.66666667e-01  3.17206578e-17]\n",
      "验证Ax: [1. 2. 3.]\n"
     ]
    }
   ],
   "source": [
    "print(\"\\n\" + \"=\"*50)\n",
    "print(\"7. 线性代数\")\n",
    "print(\"=\"*50)\n",
    "\n",
    "# 创建矩阵\n",
    "A = np.array([[1, 2, 3], [4, 5, 6], [7, 8, 10]])\n",
    "b_vec = np.array([1, 2, 3]) # Renamed to avoid conflict with previous 'b'\n",
    "\n",
    "print(f\"矩阵A:\\n{A}\")\n",
    "print(f\"向量b: {b_vec}\")\n",
    "\n",
    "print(f\"\\n7.1 基本线性代数运算\")\n",
    "print(f\"矩阵行列式: {np.linalg.det(A):.2f}\")\n",
    "print(f\"矩阵迹: {np.trace(A)}\")\n",
    "print(f\"矩阵秩: {np.linalg.matrix_rank(A)}\")\n",
    "\n",
    "# 特征值和特征向量\n",
    "eigenvalues, eigenvectors = np.linalg.eig(A)\n",
    "print(f\"\\n7.2 特征值和特征向量\")\n",
    "print(f\"特征值: {eigenvalues}\")\n",
    "print(f\"特征向量:\\n{eigenvectors}\")\n",
    "\n",
    "# 奇异值分解\n",
    "U, s, Vt = np.linalg.svd(A)\n",
    "print(f\"\\n7.3 奇异值分解\")\n",
    "print(f\"U矩阵形状: {U.shape}\")\n",
    "print(f\"奇异值: {s}\")\n",
    "print(f\"Vt矩阵形状: {Vt.shape}\")\n",
    "\n",
    "# 求解线性方程组\n",
    "try:\n",
    "    x_sol = np.linalg.solve(A, b_vec) # Renamed to avoid conflict\n",
    "    print(f\"\\n7.4 线性方程组解: {x_sol}\")\n",
    "    print(f\"验证Ax: {A @ x_sol}\")\n",
    "except np.linalg.LinAlgError:\n",
    "    print(\"\\n7.4 矩阵奇异，使用最小二乘解\")\n",
    "    x_sol = np.linalg.lstsq(A, b_vec, rcond=None)[0]\n",
    "    print(f\"最小二乘解: {x_sol}\")"
   ]
  },
  {
   "cell_type": "markdown",
   "metadata": {},
   "source": [
    "## 8. 随机数生成"
   ]
  },
  {
   "cell_type": "code",
   "execution_count": 10,
   "metadata": {},
   "outputs": [
    {
     "name": "stdout",
     "output_type": "stream",
     "text": [
      "\n",
      "==================================================\n",
      "8. 随机数生成\n",
      "==================================================\n",
      "\n",
      "8.1 基本随机数\n",
      "均匀分布[0,1): [0.37454012 0.95071431 0.73199394 0.59865848 0.15601864]\n",
      "均匀分布[a,b): [2.40395068 1.52275251 8.79558531 6.41003511 7.3726532 ]\n",
      "正态分布: [-0.46947439  0.54256004 -0.46341769 -0.46572975  0.24196227]\n",
      "整数随机: [89 49 91 59 42]\n",
      "\n",
      "8.2 特殊分布\n",
      "指数分布: [0.09557922 7.28059911 0.5299408  0.18995463 1.92669135]\n",
      "泊松分布: [5 0 3 2 3]\n",
      "二项分布: [2 4 3 2 3]\n",
      "\n",
      "8.3 随机选择和打乱\n",
      "原数据: [0 1 2 3 4 5 6 7 8 9]\n",
      "打乱后: [4 2 7 0 6 3 5 8 9 1]\n",
      "加权随机选择: [5 5 4 4 5 4 3 3 2 1]\n"
     ]
    }
   ],
   "source": [
    "print(\"\\n\" + \"=\"*50)\n",
    "print(\"8. 随机数生成\")\n",
    "print(\"=\"*50)\n",
    "\n",
    "# 设置随机种子\n",
    "np.random.seed(42)\n",
    "\n",
    "print(f\"\\n8.1 基本随机数\")\n",
    "print(f\"均匀分布[0,1): {np.random.random(5)}\")\n",
    "print(f\"均匀分布[a,b): {np.random.uniform(1, 10, 5)}\")\n",
    "print(f\"正态分布: {np.random.normal(0, 1, 5)}\")\n",
    "print(f\"整数随机: {np.random.randint(1, 100, 5)}\")\n",
    "\n",
    "print(f\"\\n8.2 特殊分布\")\n",
    "print(f\"指数分布: {np.random.exponential(2, 5)}\")\n",
    "print(f\"泊松分布: {np.random.poisson(3, 5)}\")\n",
    "print(f\"二项分布: {np.random.binomial(10, 0.3, 5)}\")\n",
    "\n",
    "print(f\"\\n8.3 随机选择和打乱\")\n",
    "data_to_shuffle = np.arange(10)\n",
    "print(f\"原数据: {data_to_shuffle}\")\n",
    "np.random.shuffle(data_to_shuffle)\n",
    "print(f\"打乱后: {data_to_shuffle}\")\n",
    "\n",
    "choices_rand = np.random.choice([1, 2, 3, 4, 5], size=10, replace=True, p=[0.1, 0.1, 0.2, 0.3, 0.3]) # Renamed\n",
    "print(f\"加权随机选择: {choices_rand}\")"
   ]
  },
  {
   "cell_type": "markdown",
   "metadata": {},
   "source": [
    "## 9. 数组条件操作"
   ]
  },
  {
   "cell_type": "code",
   "execution_count": 11,
   "metadata": {},
   "outputs": [
    {
     "name": "stdout",
     "output_type": "stream",
     "text": [
      "\n",
      "==================================================\n",
      "9. 数组条件操作\n",
      "==================================================\n",
      "随机数据:\n",
      "[[-1.91328024 -1.87567677 -1.36678214  0.63630511 -0.90672067]\n",
      " [ 0.47604259  1.30366127  0.21158701  0.59704465 -0.89633518]\n",
      " [-0.11198782  1.46894129 -1.12389833  0.9500054   1.72651647]\n",
      " [ 0.45788508 -1.68428738  0.32684522 -0.08111895  0.46779475]\n",
      " [ 0.73612235 -0.77970188 -0.84389636 -0.15053386 -0.96555767]]\n",
      "\n",
      "9.1 where函数\n",
      "正数保留，负数置零:\n",
      "[[0.         0.         0.         0.63630511 0.        ]\n",
      " [0.47604259 1.30366127 0.21158701 0.59704465 0.        ]\n",
      " [0.         1.46894129 0.         0.9500054  1.72651647]\n",
      " [0.45788508 0.         0.32684522 0.         0.46779475]\n",
      " [0.73612235 0.         0.         0.         0.        ]]\n",
      "\n",
      "多条件分类:\n",
      "[['low' 'low' 'low' 'medium' 'low']\n",
      " ['medium' 'high' 'medium' 'medium' 'low']\n",
      " ['low' 'high' 'low' 'medium' 'high']\n",
      " ['medium' 'low' 'medium' 'low' 'medium']\n",
      " ['medium' 'low' 'low' 'low' 'low']]\n",
      "\n",
      "select函数结果:\n",
      "[['low' 'low' 'low' 'medium' 'medium']\n",
      " ['medium' 'high' 'medium' 'medium' 'medium']\n",
      " ['medium' 'high' 'low' 'medium' 'high']\n",
      " ['medium' 'low' 'medium' 'medium' 'medium']\n",
      " ['medium' 'medium' 'medium' 'medium' 'medium']]\n"
     ]
    }
   ],
   "source": [
    "print(\"\\n\" + \"=\"*50)\n",
    "print(\"9. 数组条件操作\")\n",
    "print(\"=\"*50)\n",
    "\n",
    "data_cond = np.random.randn(5, 5) # Renamed\n",
    "print(f\"随机数据:\\n{data_cond}\")\n",
    "\n",
    "# where函数\n",
    "print(f\"\\n9.1 where函数\")\n",
    "result_cond = np.where(data_cond > 0, data_cond, 0)  # 正数保留，负数置零\n",
    "print(f\"正数保留，负数置零:\\n{result_cond}\")\n",
    "\n",
    "# 多条件\n",
    "condition_multi = np.where(data_cond > 1, 'high', np.where(data_cond > 0, 'medium', 'low'))\n",
    "print(f\"\\n多条件分类:\\n{condition_multi}\")\n",
    "\n",
    "# select函数\n",
    "conditions_select = [data_cond < -1, (data_cond >= -1) & (data_cond < 1), data_cond >= 1]\n",
    "choices_select = ['low', 'medium', 'high']\n",
    "selected = np.select(conditions_select, choices_select)\n",
    "print(f\"\\nselect函数结果:\\n{selected}\")"
   ]
  },
  {
   "cell_type": "markdown",
   "metadata": {},
   "source": [
    "## 10. 数组排序"
   ]
  },
  {
   "cell_type": "code",
   "execution_count": 12,
   "metadata": {},
   "outputs": [
    {
     "name": "stdout",
     "output_type": "stream",
     "text": [
      "\n",
      "==================================================\n",
      "10. 数组排序\n",
      "==================================================\n",
      "未排序数组:\n",
      "[[51 63 96 52 96]\n",
      " [ 4 94 23 15 43]\n",
      " [29 36 13 32 71]\n",
      " [59 86 28 66 42]]\n",
      "\n",
      "10.1 基本排序\n",
      "整体排序: [ 4 13 15 23 28 29 32 36 42 43 51 52 59 63 66 71 86 94 96 96]\n",
      "按行排序:\n",
      "[[51 52 63 96 96]\n",
      " [ 4 15 23 43 94]\n",
      " [13 29 32 36 71]\n",
      " [28 42 59 66 86]]\n",
      "按列排序:\n",
      "[[ 4 36 13 15 42]\n",
      " [29 63 23 32 43]\n",
      " [51 86 28 52 71]\n",
      " [59 94 96 66 96]]\n",
      "\n",
      "10.2 排序索引\n",
      "排序索引:\n",
      "[[0 3 1 2 4]\n",
      " [0 3 2 4 1]\n",
      " [2 0 3 1 4]\n",
      " [2 4 0 3 1]]\n",
      "\n",
      "10.3 部分排序\n",
      "部分排序(第3小):\n",
      "[[51 52 63 96 96]\n",
      " [ 4 15 23 94 43]\n",
      " [13 29 32 36 71]\n",
      " [28 42 59 66 86]]\n"
     ]
    }
   ],
   "source": [
    "print(\"\\n\" + \"=\"*50)\n",
    "print(\"10. 数组排序\")\n",
    "print(\"=\"*50)\n",
    "\n",
    "unsorted = np.random.randint(1, 100, (4, 5))\n",
    "print(f\"未排序数组:\\n{unsorted}\")\n",
    "\n",
    "print(f\"\\n10.1 基本排序\")\n",
    "print(f\"整体排序: {np.sort(unsorted, axis=None)}\")\n",
    "print(f\"按行排序:\\n{np.sort(unsorted, axis=1)}\")\n",
    "print(f\"按列排序:\\n{np.sort(unsorted, axis=0)}\")\n",
    "\n",
    "print(f\"\\n10.2 排序索引\")\n",
    "indices = np.argsort(unsorted, axis=1)\n",
    "print(f\"排序索引:\\n{indices}\")\n",
    "\n",
    "print(f\"\\n10.3 部分排序\")\n",
    "partitioned = np.partition(unsorted, 2, axis=1)  # 第3小的元素\n",
    "print(f\"部分排序(第3小):\\n{partitioned}\")"
   ]
  },
  {
   "cell_type": "markdown",
   "metadata": {},
   "source": [
    "## 11. 集合操作"
   ]
  },
  {
   "cell_type": "code",
   "execution_count": 13,
   "metadata": {},
   "outputs": [
    {
     "name": "stdout",
     "output_type": "stream",
     "text": [
      "\n",
      "==================================================\n",
      "11. 集合操作\n",
      "==================================================\n",
      "集合1: [1 2 3 4 5]\n",
      "集合2: [3 4 5 6 7]\n",
      "\n",
      "11.1 集合运算\n",
      "并集: [1 2 3 4 5 6 7]\n",
      "交集: [3 4 5]\n",
      "差集: [1 2]\n",
      "对称差集: [1 2 6 7]\n",
      "\n",
      "11.2 成员检测\n",
      "set1中的元素是否在set2中: [False False  True  True  True]\n",
      "\n",
      "原数组: [1 2 2 3 3 3 4 4 4 4]\n",
      "去重后: [1 2 3 4]\n",
      "去重并返回计数: (array([1, 2, 3, 4]), array([1, 2, 3, 4]))\n"
     ]
    }
   ],
   "source": [
    "print(\"\\n\" + \"=\"*50)\n",
    "print(\"11. 集合操作\")\n",
    "print(\"=\"*50)\n",
    "\n",
    "set1 = np.array([1, 2, 3, 4, 5])\n",
    "set2 = np.array([3, 4, 5, 6, 7])\n",
    "\n",
    "print(f\"集合1: {set1}\")\n",
    "print(f\"集合2: {set2}\")\n",
    "\n",
    "print(f\"\\n11.1 集合运算\")\n",
    "print(f\"并集: {np.union1d(set1, set2)}\")\n",
    "print(f\"交集: {np.intersect1d(set1, set2)}\")\n",
    "print(f\"差集: {np.setdiff1d(set1, set2)}\")\n",
    "print(f\"对称差集: {np.setxor1d(set1, set2)}\")\n",
    "\n",
    "print(f\"\\n11.2 成员检测\")\n",
    "print(f\"set1中的元素是否在set2中: {np.in1d(set1, set2)}\")\n",
    "\n",
    "# 去重\n",
    "duplicates = np.array([1, 2, 2, 3, 3, 3, 4, 4, 4, 4])\n",
    "print(f\"\\n原数组: {duplicates}\")\n",
    "print(f\"去重后: {np.unique(duplicates)}\")\n",
    "print(f\"去重并返回计数: {np.unique(duplicates, return_counts=True)}\")"
   ]
  },
  {
   "cell_type": "markdown",
   "metadata": {},
   "source": [
    "## 12. 广播机制"
   ]
  },
  {
   "cell_type": "code",
   "execution_count": 14,
   "metadata": {},
   "outputs": [
    {
     "name": "stdout",
     "output_type": "stream",
     "text": [
      "\n",
      "==================================================\n",
      "12. 广播机制\n",
      "==================================================\n",
      "\n",
      "12.1 广播示例\n",
      "数组a (2x3):\n",
      "[[1 2 3]\n",
      " [4 5 6]]\n",
      "数组b (3,): [10 20 30]\n",
      "广播相加:\n",
      "[[11 22 33]\n",
      " [14 25 36]]\n",
      "\n",
      "数组c (2x1):\n",
      "[[1]\n",
      " [2]]\n",
      "a + c:\n",
      "[[2 3 4]\n",
      " [6 7 8]]\n",
      "\n",
      "12.2 广播规则\n",
      "x形状: (4,), y形状: (5, 1)\n",
      "广播结果形状: (5, 4)\n",
      "广播结果:\n",
      "[[0 1 2 3]\n",
      " [1 2 3 4]\n",
      " [2 3 4 5]\n",
      " [3 4 5 6]\n",
      " [4 5 6 7]]\n"
     ]
    }
   ],
   "source": [
    "print(\"\\n\" + \"=\"*50)\n",
    "print(\"12. 广播机制\")\n",
    "print(\"=\"*50)\n",
    "\n",
    "# 不同形状数组的运算\n",
    "print(f\"\\n12.1 广播示例\")\n",
    "a_bc = np.array([[1, 2, 3], [4, 5, 6]]) # Renamed\n",
    "b_bc = np.array([10, 20, 30]) # Renamed\n",
    "print(f\"数组a (2x3):\\n{a_bc}\")\n",
    "print(f\"数组b (3,): {b_bc}\")\n",
    "print(f\"广播相加:\\n{a_bc + b_bc}\")\n",
    "\n",
    "# 更复杂的广播\n",
    "c_bc = np.array([[1], [2]]) # Renamed\n",
    "print(f\"\\n数组c (2x1):\\n{c_bc}\")\n",
    "print(f\"a + c:\\n{a_bc + c_bc}\")\n",
    "\n",
    "# 广播规则演示\n",
    "print(f\"\\n12.2 广播规则\")\n",
    "x_bc = np.arange(4) # Renamed\n",
    "y_bc = np.arange(5).reshape(5, 1) # Renamed\n",
    "print(f\"x形状: {x_bc.shape}, y形状: {y_bc.shape}\")\n",
    "result_bc = x_bc + y_bc\n",
    "print(f\"广播结果形状: {result_bc.shape}\")\n",
    "print(f\"广播结果:\\n{result_bc}\")"
   ]
  },
  {
   "cell_type": "markdown",
   "metadata": {},
   "source": [
    "## 13. 内存布局和性能"
   ]
  },
  {
   "cell_type": "code",
   "execution_count": 15,
   "metadata": {},
   "outputs": [
    {
     "name": "stdout",
     "output_type": "stream",
     "text": [
      "\n",
      "==================================================\n",
      "13. 内存布局和性能\n",
      "==================================================\n",
      "\n",
      "13.1 内存布局\n",
      "C风格数组: True\n",
      "Fortran风格数组: True\n",
      "\n",
      "13.2 视图与副本\n",
      "原数组: [0 1 2 3 4 5 6 7 8 9]\n",
      "视图: [0 2 4 6 8]\n",
      "副本: [0 2 4 6 8]\n",
      "修改原数组后:\n",
      "原数组: [999   1   2   3   4   5   6   7   8   9]\n",
      "视图: [999   2   4   6   8]\n",
      "副本: [0 2 4 6 8]\n"
     ]
    }
   ],
   "source": [
    "print(\"\\n\" + \"=\"*50)\n",
    "print(\"13. 内存布局和性能\")\n",
    "print(\"=\"*50)\n",
    "\n",
    "# C风格 vs Fortran风格\n",
    "print(f\"\\n13.1 内存布局\")\n",
    "c_array = np.array([[1, 2, 3], [4, 5, 6]], order='C')\n",
    "f_array = np.array([[1, 2, 3], [4, 5, 6]], order='F')\n",
    "\n",
    "print(f\"C风格数组: {c_array.flags['C_CONTIGUOUS']}\")\n",
    "print(f\"Fortran风格数组: {f_array.flags['F_CONTIGUOUS']}\")\n",
    "\n",
    "# 视图 vs 副本\n",
    "print(f\"\\n13.2 视图与副本\")\n",
    "original_mem = np.arange(10) # Renamed\n",
    "view = original_mem[::2]  # 视图\n",
    "copy = original_mem[::2].copy()  # 副本\n",
    "\n",
    "print(f\"原数组: {original_mem}\")\n",
    "print(f\"视图: {view}\")\n",
    "print(f\"副本: {copy}\")\n",
    "\n",
    "original_mem[0] = 999\n",
    "print(f\"修改原数组后:\")\n",
    "print(f\"原数组: {original_mem}\")\n",
    "print(f\"视图: {view}\")\n",
    "print(f\"副本: {copy}\")"
   ]
  },
  {
   "cell_type": "markdown",
   "metadata": {},
   "source": [
    "## 14. 结构化数组"
   ]
  },
  {
   "cell_type": "code",
   "execution_count": 16,
   "metadata": {},
   "outputs": [
    {
     "name": "stdout",
     "output_type": "stream",
     "text": [
      "\n",
      "==================================================\n",
      "14. 结构化数组\n",
      "==================================================\n",
      "结构化数组:\n",
      "[('Alice', 25, 55.5) ('Bob', 30, 70.2) ('Charlie', 35, 80.1)]\n",
      "姓名: ['Alice' 'Bob' 'Charlie']\n",
      "年龄: [25 30 35]\n",
      "体重: [55.5 70.2 80.1]\n",
      "\n",
      "按年龄排序:\n",
      "[('Alice', 25, 55.5) ('Bob', 30, 70.2) ('Charlie', 35, 80.1)]\n"
     ]
    }
   ],
   "source": [
    "print(\"\\n\" + \"=\"*50)\n",
    "print(\"14. 结构化数组\")\n",
    "print(\"=\"*50)\n",
    "\n",
    "# 定义结构化数据类型\n",
    "dt = np.dtype([('name', 'U10'), ('age', 'i4'), ('weight', 'f4')])\n",
    "people = np.array([('Alice', 25, 55.5), ('Bob', 30, 70.2), ('Charlie', 35, 80.1)], dtype=dt)\n",
    "\n",
    "print(f\"结构化数组:\\n{people}\")\n",
    "print(f\"姓名: {people['name']}\")\n",
    "print(f\"年龄: {people['age']}\")\n",
    "print(f\"体重: {people['weight']}\")\n",
    "\n",
    "# 按字段排序\n",
    "sorted_by_age = np.sort(people, order='age')\n",
    "print(f\"\\n按年龄排序:\\n{sorted_by_age}\")"
   ]
  },
  {
   "cell_type": "markdown",
   "metadata": {},
   "source": [
    "## 15. 高级技巧"
   ]
  },
  {
   "cell_type": "code",
   "execution_count": 17,
   "metadata": {},
   "outputs": [
    {
     "name": "stdout",
     "output_type": "stream",
     "text": [
      "\n",
      "==================================================\n",
      "15. 高级技巧\n",
      "==================================================\n",
      "\n",
      "15.1 向量化函数\n",
      "输入: [-2 -1  0  1  2]\n",
      "向量化结果: [0 0 0 1 4]\n",
      "\n",
      "15.2 数组显示控制\n",
      "格式化显示:\n",
      "[[0.81 0.63 0.87 ... 0.81 0.9  0.32]\n",
      " [0.11 0.23 0.43 ... 0.42 0.22 0.12]\n",
      " [0.34 0.94 0.32 ... 0.96 0.25 0.5 ]\n",
      " ...\n",
      " [0.88 0.26 0.66 ... 0.09 0.9  0.9 ]\n",
      " [0.63 0.34 0.35 ... 0.64 0.08 0.16]\n",
      " [0.9  0.61 0.01 ... 0.55 0.69 0.65]]\n",
      "\n",
      "15.3 数组保存和加载\n",
      "保存并加载的数组相等: True\n",
      "加载的数组键: ['arr1', 'arr2']\n",
      "\n",
      "==================================================\n",
      "Numpy高级示例完成！\n",
      "==================================================\n"
     ]
    }
   ],
   "source": [
    "print(\"\\n\" + \"=\"*50)\n",
    "print(\"15. 高级技巧\")\n",
    "print(\"=\"*50)\n",
    "\n",
    "# 向量化函数\n",
    "print(f\"\\n15.1 向量化函数\")\n",
    "def python_func(x):\n",
    "    if x > 0:\n",
    "        return x ** 2\n",
    "    else:\n",
    "        return 0\n",
    "\n",
    "vectorized_func = np.vectorize(python_func)\n",
    "test_data_adv = np.array([-2, -1, 0, 1, 2]) # Renamed\n",
    "print(f\"输入: {test_data_adv}\")\n",
    "print(f\"向量化结果: {vectorized_func(test_data_adv)}\")\n",
    "\n",
    "# 数组的字符串表示\n",
    "print(f\"\\n15.2 数组显示控制\")\n",
    "large_array_adv = np.random.random((10, 10)) # Renamed\n",
    "with np.printoptions(precision=2, suppress=True, threshold=50):\n",
    "    print(f\"格式化显示:\\n{large_array_adv}\")\n",
    "\n",
    "# 数组保存和加载\n",
    "print(f\"\\n15.3 数组保存和加载\")\n",
    "test_array_save = np.random.random((3, 3)) # Renamed\n",
    "np.save('/tmp/test_array.npy', test_array_save)\n",
    "loaded_array = np.load('/tmp/test_array.npy')\n",
    "print(f\"保存并加载的数组相等: {np.array_equal(test_array_save, loaded_array)}\")\n",
    "\n",
    "# 多个数组保存\n",
    "np.savez('/tmp/multiple_arrays.npz', arr1=test_array_save, arr2=large_array_adv[:3, :3])\n",
    "loaded_data = np.load('/tmp/multiple_arrays.npz')\n",
    "print(f\"加载的数组键: {list(loaded_data.keys())}\")\n",
    "\n",
    "print(\"\\n\" + \"=\"*50)\n",
    "print(\"Numpy高级示例完成！\")\n",
    "print(\"=\"*50)"
   ]
  }
 ],
 "metadata": {
  "kernelspec": {
   "display_name": "uni",
   "language": "python",
   "name": "python3"
  },
  "language_info": {
   "codemirror_mode": {
    "name": "ipython",
    "version": 3
   },
   "file_extension": ".py",
   "mimetype": "text/x-python",
   "name": "python",
   "nbconvert_exporter": "python",
   "pygments_lexer": "ipython3",
   "version": "3.11.5"
  }
 },
 "nbformat": 4,
 "nbformat_minor": 5
}
