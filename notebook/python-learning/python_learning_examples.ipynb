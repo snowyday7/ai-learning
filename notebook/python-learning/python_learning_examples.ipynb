{
 "cells": [
  {
   "cell_type": "markdown",
   "metadata": {},
   "source": [
    "# Python从基础到进阶学习示例\n",
    "\n",
    "本笔记包含了Python从基础到进阶的各种示例代码，适合学习和参考。"
   ]
  },
  {
   "cell_type": "markdown",
   "metadata": {},
   "source": [
    "## 1. 基础数据结构和操作"
   ]
  },
  {
   "cell_type": "code",
   "execution_count": 21,
   "metadata": {},
   "outputs": [
    {
     "name": "stdout",
     "output_type": "stream",
     "text": [
      "1. 基础数据结构和操作\n",
      "添加元素: [10, 20, 30, 40, 50, 60, 70]\n",
      "插入元素: [10, 20, 25, 30, 40, 50, 60, 70]\n",
      "弹出元素: [10, 20, 25, 30, 40, 50, 60]\n",
      "切片操作: [20, 25, 30]\n",
      "列表推导式: [20, 40, 50, 60, 80, 100, 120]\n"
     ]
    }
   ],
   "source": [
    "print(\"1. 基础数据结构和操作\")\n",
    "# 列表操作\n",
    "l = [10, 20, 30, 40]\n",
    "l.append(50)\n",
    "l.extend([60,70])\n",
    "print(f\"添加元素: {l}\")\n",
    "l.insert(2, 25)\n",
    "print(f\"插入元素: {l}\")\n",
    "l.pop()\n",
    "print(f\"弹出元素: {l}\")\n",
    "print(f\"切片操作: {l[1:4]}\")\n",
    "print(f\"列表推导式: {[x*2 for x in l]}\")"
   ]
  },
  {
   "cell_type": "code",
   "execution_count": 22,
   "metadata": {},
   "outputs": [
    {
     "name": "stdout",
     "output_type": "stream",
     "text": [
      "字典视图: dict_keys(['name', 'city', 'job']), dict_values(['张三', '北京', '开发工程师']), dict_items([('name', '张三'), ('city', '北京'), ('job', '开发工程师')])\n"
     ]
    }
   ],
   "source": [
    "# 字典操作\n",
    "d = {\"name\": \"张三\", \"age\": 25, \"city\": \"北京\"}\n",
    "d[\"job\"] = \"开发工程师\"  # 添加键值对\n",
    "del d[\"age\"]  # 删除键值对\n",
    "print(f\"字典视图: {d.keys()}, {d.values()}, {d.items()}\")"
   ]
  },
  {
   "cell_type": "code",
   "execution_count": 23,
   "metadata": {},
   "outputs": [
    {
     "name": "stdout",
     "output_type": "stream",
     "text": [
      "集合并集: {1, 2, 3, 4, 5}\n"
     ]
    }
   ],
   "source": [
    "# 集合\n",
    "s1 = {1, 2, 3}\n",
    "s2 = {3, 4, 5}\n",
    "print(f\"集合并集: {s1 | s2}\")"
   ]
  },
  {
   "cell_type": "markdown",
   "metadata": {},
   "source": [
    "## 2. 函数进阶"
   ]
  },
  {
   "cell_type": "code",
   "execution_count": 24,
   "metadata": {},
   "outputs": [
    {
     "name": "stdout",
     "output_type": "stream",
     "text": [
      "\n",
      "2. 函数进阶\n",
      "Lambda平方计算: 25\n"
     ]
    }
   ],
   "source": [
    "print(\"\\n2. 函数进阶\")\n",
    "# lambda函数\n",
    "square = lambda x: x*x\n",
    "print(f\"Lambda平方计算: {square(5)}\")"
   ]
  },
  {
   "cell_type": "code",
   "execution_count": 25,
   "metadata": {},
   "outputs": [
    {
     "name": "stdout",
     "output_type": "stream",
     "text": [
      "闭包函数应用: 16\n"
     ]
    }
   ],
   "source": [
    "# 闭包函数\n",
    "def multiplier(factor):\n",
    "    def multiply(x):\n",
    "        return x * factor\n",
    "    return multiply\n",
    "double = multiplier(2)\n",
    "print(f\"闭包函数应用: {double(8)}\")"
   ]
  },
  {
   "cell_type": "markdown",
   "metadata": {},
   "source": [
    "## 3. 面向对象编程"
   ]
  },
  {
   "cell_type": "code",
   "execution_count": 26,
   "metadata": {},
   "outputs": [
    {
     "name": "stdout",
     "output_type": "stream",
     "text": [
      "\n",
      "3. 面向对象编程\n",
      "我叫李四，今年30岁\n"
     ]
    }
   ],
   "source": [
    "print(\"\\n3. 面向对象编程\")\n",
    "class Person:\n",
    "    def __init__(self, name, age):\n",
    "        self.name = name\n",
    "        self.age = age\n",
    "        \n",
    "    def introduce(self):\n",
    "        return f\"我叫{self.name}，今年{self.age}岁\"\n",
    "\n",
    "# 创建实例\n",
    "p = Person(\"李四\", 30)\n",
    "print(p.introduce())"
   ]
  },
  {
   "cell_type": "markdown",
   "metadata": {},
   "source": [
    "## 4. 文件处理"
   ]
  },
  {
   "cell_type": "code",
   "execution_count": 27,
   "metadata": {},
   "outputs": [
    {
     "name": "stdout",
     "output_type": "stream",
     "text": [
      "\n",
      "4. 文件处理\n",
      "文件内容: Hello, File IO!\n"
     ]
    }
   ],
   "source": [
    "print(\"\\n4. 文件处理\")\n",
    "# 写入文件\n",
    "with open(\"demo.txt\", \"w\") as f:\n",
    "    f.write(\"Hello, File IO!\")\n",
    "\n",
    "# 读取文件\n",
    "with open(\"demo.txt\", \"r\") as f:\n",
    "    content = f.read()\n",
    "    print(f\"文件内容: {content}\")"
   ]
  },
  {
   "cell_type": "markdown",
   "metadata": {},
   "source": [
    "## 5. 异常处理"
   ]
  },
  {
   "cell_type": "code",
   "execution_count": 28,
   "metadata": {},
   "outputs": [
    {
     "name": "stdout",
     "output_type": "stream",
     "text": [
      "\n",
      "5. 异常处理\n",
      "捕获除零错误！\n"
     ]
    }
   ],
   "source": [
    "print(\"\\n5. 异常处理\")\n",
    "try:\n",
    "    result = 10 / 0\n",
    "except ZeroDivisionError:\n",
    "    print(\"捕获除零错误！\")"
   ]
  },
  {
   "cell_type": "markdown",
   "metadata": {},
   "source": [
    "## 6. Python进阶特性"
   ]
  },
  {
   "cell_type": "code",
   "execution_count": 29,
   "metadata": {},
   "outputs": [
    {
     "name": "stdout",
     "output_type": "stream",
     "text": [
      "\n",
      "6. Python进阶特性\n",
      "正在执行函数: add\n",
      "装饰器应用结果: 7\n"
     ]
    }
   ],
   "source": [
    "print(\"\\n6. Python进阶特性\")\n",
    "# 装饰器\n",
    "def logger(func):\n",
    "    def wrapper(*args, **kwargs):\n",
    "        print(f\"正在执行函数: {func.__name__}\")\n",
    "        return func(*args, **kwargs)\n",
    "    return wrapper\n",
    "\n",
    "@logger\n",
    "def add(a, b):\n",
    "    return a + b\n",
    "\n",
    "print(f\"装饰器应用结果: {add(3, 4)}\")"
   ]
  },
  {
   "cell_type": "markdown",
   "metadata": {},
   "source": [
    "## 7. 生成器示例"
   ]
  },
  {
   "cell_type": "code",
   "execution_count": 30,
   "metadata": {},
   "outputs": [
    {
     "name": "stdout",
     "output_type": "stream",
     "text": [
      "\n",
      "7. 生成器示例\n",
      "倒计时: 5\n",
      "倒计时: 4\n",
      "倒计时: 3\n",
      "倒计时: 2\n",
      "倒计时: 1\n",
      "所有示例运行完成！\n"
     ]
    }
   ],
   "source": [
    "print(\"\\n7. 生成器示例\")\n",
    "def countdown(n):\n",
    "    while n > 0:\n",
    "        yield n\n",
    "        n -= 1\n",
    "\n",
    "for i in countdown(5):\n",
    "    print(f\"倒计时: {i}\")\n",
    "\n",
    "print(\"所有示例运行完成！\")"
   ]
  }
 ],
 "metadata": {
  "kernelspec": {
   "display_name": "uni",
   "language": "python",
   "name": "python3"
  },
  "language_info": {
   "codemirror_mode": {
    "name": "ipython",
    "version": 3
   },
   "file_extension": ".py",
   "mimetype": "text/x-python",
   "name": "python",
   "nbconvert_exporter": "python",
   "pygments_lexer": "ipython3",
   "version": "3.11.5"
  }
 },
 "nbformat": 4,
 "nbformat_minor": 4
}
